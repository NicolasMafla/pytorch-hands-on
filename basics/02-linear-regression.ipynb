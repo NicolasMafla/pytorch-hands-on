{
 "cells": [
  {
   "cell_type": "code",
   "execution_count": 11,
   "id": "56cb4631-71f9-4775-b585-01569f2cd33a",
   "metadata": {},
   "outputs": [],
   "source": [
    "import torch\n",
    "import torch.nn as nn\n",
    "import numpy as np\n",
    "import matplotlib.pyplot as plt"
   ]
  },
  {
   "cell_type": "markdown",
   "id": "46b7c48d-ed37-4a33-9a72-71dd9a227338",
   "metadata": {},
   "source": [
    "### Hyper-parameters"
   ]
  },
  {
   "cell_type": "code",
   "execution_count": 12,
   "id": "66cac49b-11af-4232-a3bd-d2b453f1a603",
   "metadata": {},
   "outputs": [],
   "source": [
    "input_size = 1\n",
    "output_size = 1\n",
    "num_epochs = 1000\n",
    "learning_rate = 0.001"
   ]
  },
  {
   "cell_type": "markdown",
   "id": "de891d10-4b6d-4d38-a2b3-3137ea5b023c",
   "metadata": {},
   "source": [
    "### Toy dataset"
   ]
  },
  {
   "cell_type": "code",
   "execution_count": 13,
   "id": "be2a667e-b437-464c-9f65-f114297e4a29",
   "metadata": {},
   "outputs": [],
   "source": [
    "x_train = np.array([[3.3], [4.4], [5.5], [6.71], [6.93], [4.168], \n",
    "                    [9.779], [6.182], [7.59], [2.167], [7.042], \n",
    "                    [10.791], [5.313], [7.997], [3.1]], dtype=np.float32)\n",
    "\n",
    "y_train = np.array([[1.7], [2.76], [2.09], [3.19], [1.694], [1.573], \n",
    "                    [3.366], [2.596], [2.53], [1.221], [2.827], \n",
    "                    [3.465], [1.65], [2.904], [1.3]], dtype=np.float32)"
   ]
  },
  {
   "cell_type": "code",
   "execution_count": 14,
   "id": "02aa2f19-ba26-499a-a961-a31755a12401",
   "metadata": {},
   "outputs": [
    {
     "data": {
      "text/plain": [
       "(15, 1)"
      ]
     },
     "execution_count": 14,
     "metadata": {},
     "output_type": "execute_result"
    }
   ],
   "source": [
    "x_train.shape"
   ]
  },
  {
   "cell_type": "code",
   "execution_count": 15,
   "id": "44443957-08c0-4821-9fee-3bfaa281d7c1",
   "metadata": {},
   "outputs": [
    {
     "data": {
      "text/plain": [
       "(15, 1)"
      ]
     },
     "execution_count": 15,
     "metadata": {},
     "output_type": "execute_result"
    }
   ],
   "source": [
    "y_train.shape"
   ]
  },
  {
   "cell_type": "markdown",
   "id": "c917f4aa-0a00-4afa-9395-0629565b1032",
   "metadata": {},
   "source": [
    "### Linear regression model"
   ]
  },
  {
   "cell_type": "code",
   "execution_count": 16,
   "id": "557fabee-0726-4b06-9828-fb9e88840834",
   "metadata": {},
   "outputs": [],
   "source": [
    "model = nn.Linear(input_size, output_size)"
   ]
  },
  {
   "cell_type": "markdown",
   "id": "c50fb725-14cc-4872-a440-bb7c7cc6b937",
   "metadata": {},
   "source": [
    "### Loss and optimizer"
   ]
  },
  {
   "cell_type": "code",
   "execution_count": 17,
   "id": "277da473-fc6c-4296-a83c-7f5845a455ac",
   "metadata": {},
   "outputs": [],
   "source": [
    "criterion = nn.MSELoss()\n",
    "optimizer = torch.optim.SGD(model.parameters(), lr=learning_rate)"
   ]
  },
  {
   "cell_type": "markdown",
   "id": "d8210929-b592-4bf6-be80-1c134fbdb284",
   "metadata": {},
   "source": [
    "### Train the model"
   ]
  },
  {
   "cell_type": "code",
   "execution_count": 18,
   "id": "df6b9a55-c9c3-461f-b8f7-d6b1f7a075bd",
   "metadata": {},
   "outputs": [
    {
     "name": "stdout",
     "output_type": "stream",
     "text": [
      "Epoch [10/1000], Loss: 2.7578\n",
      "Epoch [20/1000], Loss: 0.5957\n",
      "Epoch [30/1000], Loss: 0.2409\n",
      "Epoch [40/1000], Loss: 0.1826\n",
      "Epoch [50/1000], Loss: 0.1731\n",
      "Epoch [60/1000], Loss: 0.1715\n",
      "Epoch [70/1000], Loss: 0.1712\n",
      "Epoch [80/1000], Loss: 0.1712\n",
      "Epoch [90/1000], Loss: 0.1711\n",
      "Epoch [100/1000], Loss: 0.1711\n",
      "Epoch [110/1000], Loss: 0.1711\n",
      "Epoch [120/1000], Loss: 0.1711\n",
      "Epoch [130/1000], Loss: 0.1711\n",
      "Epoch [140/1000], Loss: 0.1711\n",
      "Epoch [150/1000], Loss: 0.1711\n",
      "Epoch [160/1000], Loss: 0.1711\n",
      "Epoch [170/1000], Loss: 0.1710\n",
      "Epoch [180/1000], Loss: 0.1710\n",
      "Epoch [190/1000], Loss: 0.1710\n",
      "Epoch [200/1000], Loss: 0.1710\n",
      "Epoch [210/1000], Loss: 0.1710\n",
      "Epoch [220/1000], Loss: 0.1710\n",
      "Epoch [230/1000], Loss: 0.1710\n",
      "Epoch [240/1000], Loss: 0.1710\n",
      "Epoch [250/1000], Loss: 0.1710\n",
      "Epoch [260/1000], Loss: 0.1710\n",
      "Epoch [270/1000], Loss: 0.1709\n",
      "Epoch [280/1000], Loss: 0.1709\n",
      "Epoch [290/1000], Loss: 0.1709\n",
      "Epoch [300/1000], Loss: 0.1709\n",
      "Epoch [310/1000], Loss: 0.1709\n",
      "Epoch [320/1000], Loss: 0.1709\n",
      "Epoch [330/1000], Loss: 0.1709\n",
      "Epoch [340/1000], Loss: 0.1709\n",
      "Epoch [350/1000], Loss: 0.1709\n",
      "Epoch [360/1000], Loss: 0.1708\n",
      "Epoch [370/1000], Loss: 0.1708\n",
      "Epoch [380/1000], Loss: 0.1708\n",
      "Epoch [390/1000], Loss: 0.1708\n",
      "Epoch [400/1000], Loss: 0.1708\n",
      "Epoch [410/1000], Loss: 0.1708\n",
      "Epoch [420/1000], Loss: 0.1708\n",
      "Epoch [430/1000], Loss: 0.1708\n",
      "Epoch [440/1000], Loss: 0.1708\n",
      "Epoch [450/1000], Loss: 0.1708\n",
      "Epoch [460/1000], Loss: 0.1708\n",
      "Epoch [470/1000], Loss: 0.1707\n",
      "Epoch [480/1000], Loss: 0.1707\n",
      "Epoch [490/1000], Loss: 0.1707\n",
      "Epoch [500/1000], Loss: 0.1707\n",
      "Epoch [510/1000], Loss: 0.1707\n",
      "Epoch [520/1000], Loss: 0.1707\n",
      "Epoch [530/1000], Loss: 0.1707\n",
      "Epoch [540/1000], Loss: 0.1707\n",
      "Epoch [550/1000], Loss: 0.1707\n",
      "Epoch [560/1000], Loss: 0.1707\n",
      "Epoch [570/1000], Loss: 0.1707\n",
      "Epoch [580/1000], Loss: 0.1706\n",
      "Epoch [590/1000], Loss: 0.1706\n",
      "Epoch [600/1000], Loss: 0.1706\n",
      "Epoch [610/1000], Loss: 0.1706\n",
      "Epoch [620/1000], Loss: 0.1706\n",
      "Epoch [630/1000], Loss: 0.1706\n",
      "Epoch [640/1000], Loss: 0.1706\n",
      "Epoch [650/1000], Loss: 0.1706\n",
      "Epoch [660/1000], Loss: 0.1706\n",
      "Epoch [670/1000], Loss: 0.1706\n",
      "Epoch [680/1000], Loss: 0.1706\n",
      "Epoch [690/1000], Loss: 0.1705\n",
      "Epoch [700/1000], Loss: 0.1705\n",
      "Epoch [710/1000], Loss: 0.1705\n",
      "Epoch [720/1000], Loss: 0.1705\n",
      "Epoch [730/1000], Loss: 0.1705\n",
      "Epoch [740/1000], Loss: 0.1705\n",
      "Epoch [750/1000], Loss: 0.1705\n",
      "Epoch [760/1000], Loss: 0.1705\n",
      "Epoch [770/1000], Loss: 0.1705\n",
      "Epoch [780/1000], Loss: 0.1705\n",
      "Epoch [790/1000], Loss: 0.1705\n",
      "Epoch [800/1000], Loss: 0.1705\n",
      "Epoch [810/1000], Loss: 0.1704\n",
      "Epoch [820/1000], Loss: 0.1704\n",
      "Epoch [830/1000], Loss: 0.1704\n",
      "Epoch [840/1000], Loss: 0.1704\n",
      "Epoch [850/1000], Loss: 0.1704\n",
      "Epoch [860/1000], Loss: 0.1704\n",
      "Epoch [870/1000], Loss: 0.1704\n",
      "Epoch [880/1000], Loss: 0.1704\n",
      "Epoch [890/1000], Loss: 0.1704\n",
      "Epoch [900/1000], Loss: 0.1704\n",
      "Epoch [910/1000], Loss: 0.1704\n",
      "Epoch [920/1000], Loss: 0.1704\n",
      "Epoch [930/1000], Loss: 0.1704\n",
      "Epoch [940/1000], Loss: 0.1704\n",
      "Epoch [950/1000], Loss: 0.1703\n",
      "Epoch [960/1000], Loss: 0.1703\n",
      "Epoch [970/1000], Loss: 0.1703\n",
      "Epoch [980/1000], Loss: 0.1703\n",
      "Epoch [990/1000], Loss: 0.1703\n",
      "Epoch [1000/1000], Loss: 0.1703\n"
     ]
    }
   ],
   "source": [
    "for epoch in range(num_epochs):\n",
    "    inputs = torch.from_numpy(x_train)\n",
    "    targets = torch.from_numpy(y_train)\n",
    "\n",
    "    # Forward pass\n",
    "    outputs = model(inputs)\n",
    "    loss = criterion(outputs, targets)\n",
    "    \n",
    "    # Backward and optimize\n",
    "    optimizer.zero_grad()\n",
    "    loss.backward()\n",
    "    optimizer.step()\n",
    "    \n",
    "    if (epoch+1) % 10 == 0:\n",
    "        print ('Epoch [{}/{}], Loss: {:.4f}'.format(epoch+1, num_epochs, loss.item()))"
   ]
  },
  {
   "cell_type": "markdown",
   "id": "9c5ce764-0dd8-44ab-b72d-ae67991a98de",
   "metadata": {},
   "source": [
    "### Plot the graph"
   ]
  },
  {
   "cell_type": "code",
   "execution_count": 19,
   "id": "8c93a602-3186-4a9a-b1b8-6f227992af44",
   "metadata": {},
   "outputs": [
    {
     "data": {
      "image/png": "[encoded data removed]",
      "text/plain": [
       "<Figure size 640x480 with 1 Axes>"
      ]
     },
     "metadata": {},
     "output_type": "display_data"
    }
   ],
   "source": [
    "predicted = model(torch.from_numpy(x_train)).detach().numpy()\n",
    "plt.plot(x_train, y_train, 'ro', label='Original data')\n",
    "plt.plot(x_train, predicted, label='Fitted line')\n",
    "plt.legend()\n",
    "plt.show()"
   ]
  }
 ],
 "metadata": {
  "kernelspec": {
   "display_name": "Python 3 (ipykernel)",
   "language": "python",
   "name": "python3"
  },
  "language_info": {
   "codemirror_mode": {
    "name": "ipython",
    "version": 3
   },
   "file_extension": ".py",
   "mimetype": "text/x-python",
   "name": "python",
   "nbconvert_exporter": "python",
   "pygments_lexer": "ipython3",
   "version": "3.10.18"
  }
 },
 "nbformat": 4,
 "nbformat_minor": 5
}
