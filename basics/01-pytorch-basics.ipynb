{
 "cells": [
  {
   "cell_type": "code",
   "execution_count": 1,
   "id": "8e82ab8f-9a95-4918-bea5-3817690c27f6",
   "metadata": {},
   "outputs": [],
   "source": [
    "import torch \n",
    "import torchvision\n",
    "import torch.nn as nn\n",
    "import numpy as np\n",
    "import torchvision.transforms as transforms"
   ]
  },
  {
   "cell_type": "markdown",
   "id": "7d0e842c-dc00-4380-bd89-aae15c82b011",
   "metadata": {},
   "source": [
    "# 1. Basic autograd example 1"
   ]
  },
  {
   "cell_type": "markdown",
   "id": "b3c3e11a-3f16-42f1-9e9b-3e091d629c94",
   "metadata": {},
   "source": [
    "### Create few tensors"
   ]
  },
  {
   "cell_type": "code",
   "execution_count": 24,
   "id": "82a3366e-5b8b-4da8-98e7-598b750ce630",
   "metadata": {},
   "outputs": [],
   "source": [
    "x = torch.tensor(1., requires_grad=True)\n",
    "w = torch.tensor(2., requires_grad=True)\n",
    "b = torch.tensor(3., requires_grad=True)"
   ]
  },
  {
   "cell_type": "markdown",
   "id": "c80d4b44-8575-496f-a6d9-8e0b5ebb5080",
   "metadata": {},
   "source": [
    "### Build a computational graph"
   ]
  },
  {
   "cell_type": "code",
   "execution_count": 25,
   "id": "6176b477-8f8a-413a-aaf9-1ad80aae0b1d",
   "metadata": {},
   "outputs": [],
   "source": [
    "y = w * (x ** 2) + b "
   ]
  },
  {
   "cell_type": "markdown",
   "id": "87504626-9349-48d2-abce-a85a828adffc",
   "metadata": {},
   "source": [
    "### Compute gradients"
   ]
  },
  {
   "cell_type": "code",
   "execution_count": 26,
   "id": "a97b6c82-ff76-4921-bf9b-67b13d0d1f6e",
   "metadata": {},
   "outputs": [],
   "source": [
    "y.backward()"
   ]
  },
  {
   "cell_type": "markdown",
   "id": "1f4a70e0-34b2-46c6-963a-3d530a8aeeaa",
   "metadata": {},
   "source": [
    "### Check gradients"
   ]
  },
  {
   "cell_type": "code",
   "execution_count": 27,
   "id": "7bc400fb-524e-44df-bad6-6ce89034027a",
   "metadata": {},
   "outputs": [
    {
     "name": "stdout",
     "output_type": "stream",
     "text": [
      "tensor(4.)\n",
      "tensor(1.)\n",
      "tensor(1.)\n"
     ]
    }
   ],
   "source": [
    "print(x.grad)\n",
    "print(w.grad) \n",
    "print(b.grad)"
   ]
  },
  {
   "cell_type": "markdown",
   "id": "dd07f55b-f80e-4075-a14d-9428fbfaeee4",
   "metadata": {},
   "source": [
    "# 2. Basic autograd example 2"
   ]
  },
  {
   "cell_type": "markdown",
   "id": "4142b48d-0ade-4401-8c65-4b8f3ef2543d",
   "metadata": {
    "jp-MarkdownHeadingCollapsed": true
   },
   "source": [
    "### Create tensors of shape (10, 3) and (10, 2)"
   ]
  },
  {
   "cell_type": "code",
   "execution_count": 66,
   "id": "273108e5-141c-445c-8a16-57253b6b6dbf",
   "metadata": {},
   "outputs": [],
   "source": [
    "x = torch.randn(100, 3)\n",
    "y = torch.randn(100, 2)"
   ]
  },
  {
   "cell_type": "code",
   "execution_count": 67,
   "id": "97ed0369-3acb-43aa-b1e5-c9d934bb823e",
   "metadata": {},
   "outputs": [
    {
     "data": {
      "text/plain": [
       "tensor([[ 0.9215, -1.4073, -0.5302],\n",
       "        [ 0.5547, -0.2823, -0.3932],\n",
       "        [ 0.0691, -0.3990, -0.2395],\n",
       "        [ 1.2972, -0.0585, -0.0850],\n",
       "        [ 0.6575,  0.9284,  0.1457],\n",
       "        [-2.0764,  0.5302, -0.1363],\n",
       "        [ 0.0066, -1.8347,  1.7140],\n",
       "        [-1.2544, -0.6777, -0.2777],\n",
       "        [-0.4475,  0.0069,  1.4448],\n",
       "        [ 1.3214, -0.7625, -0.3772],\n",
       "        [-0.1402, -0.9672,  0.2399],\n",
       "        [ 1.9564,  0.9225, -0.2217],\n",
       "        [ 1.8487,  1.2962, -0.1633],\n",
       "        [-0.2877, -0.9131,  1.0923],\n",
       "        [-0.0323, -0.8700,  1.0462],\n",
       "        [ 0.6605, -0.3008, -1.0597],\n",
       "        [ 0.9257,  0.9217,  1.2901],\n",
       "        [-0.1252, -0.5676, -0.1535],\n",
       "        [-0.2638,  0.7316, -2.3815],\n",
       "        [-1.1360,  1.2347,  0.1379],\n",
       "        [-1.0879,  0.0995,  0.0407],\n",
       "        [-1.0970,  0.7856, -0.0886],\n",
       "        [ 0.5573, -0.2244, -0.0288],\n",
       "        [-2.6283, -0.6531,  0.1727],\n",
       "        [ 0.2660,  0.1223,  0.6896],\n",
       "        [ 0.8011, -0.6728,  0.7237],\n",
       "        [-0.1747,  1.8706,  1.0029],\n",
       "        [ 0.7786,  0.7652, -0.7872],\n",
       "        [-0.2262,  0.2372, -0.2822],\n",
       "        [-0.1987, -0.7164,  0.0953],\n",
       "        [ 0.6840, -1.4282,  0.5018],\n",
       "        [ 0.6609, -1.5003, -1.0541],\n",
       "        [ 1.5612,  0.6982, -1.0712],\n",
       "        [-0.2822,  0.8056,  0.6161],\n",
       "        [ 1.6473, -0.9343,  1.1286],\n",
       "        [-2.1514,  0.0924,  2.1647],\n",
       "        [ 0.1809, -0.2295,  1.0432],\n",
       "        [-0.5339,  0.1930, -0.6964],\n",
       "        [-2.1658, -0.7694, -0.5314],\n",
       "        [ 1.1795, -0.4376, -1.5043],\n",
       "        [ 0.4619, -0.5558, -0.6440],\n",
       "        [ 0.9601,  0.5496,  1.1104],\n",
       "        [ 0.2958, -0.1080,  0.2271],\n",
       "        [ 0.1054,  2.4506, -0.7223],\n",
       "        [ 0.0807, -0.3677, -0.7864],\n",
       "        [-0.4020,  0.5066,  0.4536],\n",
       "        [ 1.1748, -1.2514, -0.5429],\n",
       "        [-0.4628,  0.8456,  0.6858],\n",
       "        [-0.2134,  0.0517, -0.1748],\n",
       "        [-0.3795, -0.1924, -0.6455],\n",
       "        [ 0.7933,  0.2958, -0.7745],\n",
       "        [-1.6331,  0.1848, -0.0520],\n",
       "        [ 0.9045, -0.3859, -2.3160],\n",
       "        [-1.4266,  0.8004,  0.5741],\n",
       "        [ 0.1925,  1.1803, -0.4404],\n",
       "        [ 1.2198,  3.5019, -1.1507],\n",
       "        [ 0.2136,  0.6346,  0.6915],\n",
       "        [ 0.5948, -0.0624, -0.3578],\n",
       "        [-1.0313,  1.4834,  1.3933],\n",
       "        [-1.0202, -0.8544, -1.2978],\n",
       "        [ 0.0840, -0.9191, -0.8457],\n",
       "        [-1.1407, -1.4770, -1.4252],\n",
       "        [ 0.2652,  0.2723, -0.7092],\n",
       "        [ 0.2977, -1.1837,  0.4250],\n",
       "        [ 1.0168, -1.4856, -2.4497],\n",
       "        [-0.1234, -1.0897, -0.9417],\n",
       "        [-1.2851, -0.8898, -1.1092],\n",
       "        [-0.9101, -0.4323, -0.1917],\n",
       "        [ 0.6076, -0.7520, -0.1827],\n",
       "        [ 0.3327,  0.4939, -0.9867],\n",
       "        [ 2.9110, -1.3857,  0.0381],\n",
       "        [ 0.3884, -1.8285, -0.9330],\n",
       "        [ 1.2482, -0.5691,  0.1713],\n",
       "        [ 0.1029,  1.3393, -0.7873],\n",
       "        [-0.7744,  1.1655, -0.1554],\n",
       "        [ 0.8433,  1.7580, -0.3829],\n",
       "        [ 0.6471,  0.6823,  0.8228],\n",
       "        [-0.2812,  0.2732,  0.5478],\n",
       "        [-0.0781, -1.9230,  0.2023],\n",
       "        [-0.1267,  0.6220,  1.7514],\n",
       "        [ 0.4666,  0.6233, -0.2782],\n",
       "        [ 0.0045,  1.0879,  0.5377],\n",
       "        [ 0.8610, -0.1105, -0.4856],\n",
       "        [ 0.3741,  1.0166, -0.2055],\n",
       "        [-1.5191,  0.8604, -0.6158],\n",
       "        [ 0.0330,  1.0867,  1.0083],\n",
       "        [-0.7943,  1.4554, -0.0574],\n",
       "        [ 1.2698, -2.4625, -0.0676],\n",
       "        [-0.0681, -0.4849,  0.8747],\n",
       "        [ 2.2005,  1.6251, -0.5071],\n",
       "        [-0.4119, -1.4144,  0.9252],\n",
       "        [ 0.0301, -0.5496,  0.7623],\n",
       "        [-0.2772, -0.4542, -0.4231],\n",
       "        [ 0.5624,  1.9823, -1.1495],\n",
       "        [-1.3282,  0.6522,  0.9285],\n",
       "        [-0.3579, -0.3700, -1.6303],\n",
       "        [ 0.9751, -0.8448,  1.1045],\n",
       "        [ 0.7744, -1.4683, -0.2706],\n",
       "        [-0.5093,  0.6245,  0.1947],\n",
       "        [-0.0867, -1.7665,  1.1212]])"
      ]
     },
     "execution_count": 67,
     "metadata": {},
     "output_type": "execute_result"
    }
   ],
   "source": [
    "x"
   ]
  },
  {
   "cell_type": "code",
   "execution_count": 68,
   "id": "890c6f39-81f4-4ba1-9053-b0568bb1c95d",
   "metadata": {},
   "outputs": [
    {
     "data": {
      "text/plain": [
       "tensor([[-1.2203,  0.5786],\n",
       "        [-0.9259, -0.0552],\n",
       "        [ 1.9616,  0.3412],\n",
       "        [ 0.3131,  0.8968],\n",
       "        [-0.9103,  0.8659],\n",
       "        [-0.3770, -1.3565],\n",
       "        [ 0.2604, -0.0728],\n",
       "        [-1.7524,  1.7006],\n",
       "        [-0.1987, -0.3497],\n",
       "        [ 1.0093,  0.4641],\n",
       "        [ 1.5778, -1.1819],\n",
       "        [ 0.6105, -0.3671],\n",
       "        [-0.6600, -0.1554],\n",
       "        [ 0.5545, -1.3491],\n",
       "        [-0.3230,  0.2650],\n",
       "        [ 1.2099,  0.7716],\n",
       "        [-0.2739, -0.0027],\n",
       "        [ 1.1089, -0.8220],\n",
       "        [ 2.4110,  1.4030],\n",
       "        [ 0.9272, -1.3365],\n",
       "        [-0.9447, -0.0034],\n",
       "        [ 0.5677, -2.5220],\n",
       "        [ 0.5993,  0.3751],\n",
       "        [-2.1560, -2.2711],\n",
       "        [-0.9242,  0.6587],\n",
       "        [ 0.2043, -0.0402],\n",
       "        [-0.6449, -1.0218],\n",
       "        [ 1.2493, -0.3288],\n",
       "        [ 0.2363, -0.3167],\n",
       "        [-0.3108,  0.3837],\n",
       "        [ 0.7967, -0.6776],\n",
       "        [-0.2798,  0.4664],\n",
       "        [-0.2482, -0.5944],\n",
       "        [ 0.9108,  1.4136],\n",
       "        [ 0.0081,  0.4763],\n",
       "        [-1.5018,  0.9917],\n",
       "        [-0.5827, -0.8525],\n",
       "        [ 0.9504,  0.8853],\n",
       "        [-1.6215,  1.3302],\n",
       "        [ 1.0122,  0.1673],\n",
       "        [-0.7226,  0.6465],\n",
       "        [ 0.9746,  0.9459],\n",
       "        [-2.5789, -0.4631],\n",
       "        [-0.8274,  0.0571],\n",
       "        [-1.1933,  0.7334],\n",
       "        [ 0.8488, -0.0955],\n",
       "        [-0.5327, -0.2309],\n",
       "        [-1.0979,  0.2113],\n",
       "        [-0.7402, -0.2999],\n",
       "        [-1.5521, -0.0494],\n",
       "        [ 0.8845, -0.0431],\n",
       "        [ 1.1448,  1.2714],\n",
       "        [-0.3427,  0.2882],\n",
       "        [ 0.3593, -1.5622],\n",
       "        [-1.5745,  0.2973],\n",
       "        [-0.7801, -0.3361],\n",
       "        [ 0.3209,  0.4861],\n",
       "        [-0.5871,  0.3218],\n",
       "        [ 0.7580, -0.1308],\n",
       "        [ 0.2894, -0.9739],\n",
       "        [ 0.0380,  1.5352],\n",
       "        [-0.5897, -0.4341],\n",
       "        [-0.8009, -0.1764],\n",
       "        [ 0.0945, -0.2058],\n",
       "        [-0.0211,  0.6872],\n",
       "        [-1.0071,  0.2447],\n",
       "        [ 0.4379,  0.8160],\n",
       "        [-0.8018,  0.6600],\n",
       "        [ 0.9953,  1.5422],\n",
       "        [-0.0980,  0.4947],\n",
       "        [-1.0251,  0.5524],\n",
       "        [-0.8232, -1.3061],\n",
       "        [ 0.8255,  1.0816],\n",
       "        [ 1.8595, -0.0759],\n",
       "        [-0.2154,  1.4493],\n",
       "        [-1.7252,  0.5150],\n",
       "        [ 1.0089,  0.1153],\n",
       "        [ 1.7924, -0.0320],\n",
       "        [-0.9486,  0.7966],\n",
       "        [-0.1195,  1.0820],\n",
       "        [ 1.1702, -1.6163],\n",
       "        [-0.4603, -1.7002],\n",
       "        [ 0.1145, -1.6910],\n",
       "        [ 0.6701, -1.3355],\n",
       "        [ 1.9957, -2.4328],\n",
       "        [ 1.8388,  1.5286],\n",
       "        [-0.4996, -1.1451],\n",
       "        [-1.6290, -0.8567],\n",
       "        [ 0.2748,  0.6028],\n",
       "        [-0.1530,  0.7702],\n",
       "        [-1.0678,  1.1887],\n",
       "        [-1.0977, -0.0232],\n",
       "        [-1.1683,  0.0140],\n",
       "        [ 0.1832,  0.4004],\n",
       "        [-0.0680,  0.3465],\n",
       "        [-1.7026,  2.4801],\n",
       "        [-1.1313,  1.5513],\n",
       "        [-0.3899, -0.8314],\n",
       "        [-0.6392, -0.6025],\n",
       "        [-1.6628, -0.4546]])"
      ]
     },
     "execution_count": 68,
     "metadata": {},
     "output_type": "execute_result"
    }
   ],
   "source": [
    "y"
   ]
  },
  {
   "cell_type": "markdown",
   "id": "5f9497ad-6de5-40ad-869f-29a77848485a",
   "metadata": {},
   "source": [
    "### Build a fully connected layer"
   ]
  },
  {
   "cell_type": "code",
   "execution_count": 70,
   "id": "a551f6ef-cd1c-462e-a044-0b62c2bb2f52",
   "metadata": {},
   "outputs": [
    {
     "name": "stdout",
     "output_type": "stream",
     "text": [
      "w:  Parameter containing:\n",
      "tensor([[ 0.4099,  0.0721, -0.1224],\n",
      "        [-0.0996, -0.2001, -0.0365]], requires_grad=True)\n",
      "b:  Parameter containing:\n",
      "tensor([-0.2153,  0.2147], requires_grad=True)\n"
     ]
    }
   ],
   "source": [
    "linear = nn.Linear(3, 2)\n",
    "print ('w: ', linear.weight)\n",
    "print ('b: ', linear.bias)"
   ]
  },
  {
   "cell_type": "code",
   "execution_count": 71,
   "id": "1834b0bd-b439-4dac-8d0d-594bc21a8b1d",
   "metadata": {},
   "outputs": [
    {
     "data": {
      "text/plain": [
       "Linear(in_features=3, out_features=2, bias=True)"
      ]
     },
     "execution_count": 71,
     "metadata": {},
     "output_type": "execute_result"
    }
   ],
   "source": [
    "linear"
   ]
  },
  {
   "cell_type": "code",
   "execution_count": 72,
   "id": "408cc8f8-e659-45c6-92f1-8b6492ac2e23",
   "metadata": {},
   "outputs": [
    {
     "data": {
      "text/plain": [
       "torch.Size([2, 3])"
      ]
     },
     "execution_count": 72,
     "metadata": {},
     "output_type": "execute_result"
    }
   ],
   "source": [
    "linear.weight.shape"
   ]
  },
  {
   "cell_type": "code",
   "execution_count": 73,
   "id": "c5c46234-31cb-4819-a7c9-1e72e25e0bdc",
   "metadata": {},
   "outputs": [
    {
     "data": {
      "text/plain": [
       "torch.Size([2])"
      ]
     },
     "execution_count": 73,
     "metadata": {},
     "output_type": "execute_result"
    }
   ],
   "source": [
    "linear.bias.shape"
   ]
  },
  {
   "cell_type": "markdown",
   "id": "8304ea16-8f3f-4823-86ba-ae1aefda33ac",
   "metadata": {},
   "source": [
    "### Build loss function and optimizer"
   ]
  },
  {
   "cell_type": "code",
   "execution_count": 74,
   "id": "b2215dfd-68e8-460d-a8fb-485dad5ff8e3",
   "metadata": {},
   "outputs": [],
   "source": [
    "criterion = nn.MSELoss()\n",
    "optimizer = torch.optim.SGD(linear.parameters(), lr=0.01)"
   ]
  },
  {
   "cell_type": "markdown",
   "id": "efd85c38-f15a-42b4-8cc0-e608031d177b",
   "metadata": {},
   "source": [
    "### Forward pass"
   ]
  },
  {
   "cell_type": "code",
   "execution_count": 75,
   "id": "afb9dc9a-b9b3-4f4e-98c1-d978109cfb2b",
   "metadata": {},
   "outputs": [],
   "source": [
    "y_pred = linear(x)"
   ]
  },
  {
   "cell_type": "code",
   "execution_count": 76,
   "id": "0ef49fc9-445e-46c2-af56-8cd6d8906232",
   "metadata": {},
   "outputs": [
    {
     "data": {
      "text/plain": [
       "tensor([[ 1.2594e-01,  4.2386e-01],\n",
       "        [ 3.9844e-02,  2.3030e-01],\n",
       "        [-1.8641e-01,  2.9637e-01],\n",
       "        [ 3.2264e-01,  1.0032e-01],\n",
       "        [ 1.0327e-01, -4.1869e-02],\n",
       "        [-1.0116e+00,  3.2032e-01],\n",
       "        [-5.5462e-01,  5.1847e-01],\n",
       "        [-7.4441e-01,  4.8532e-01],\n",
       "        [-5.7513e-01,  2.0507e-01],\n",
       "        [ 3.1757e-01,  2.4944e-01],\n",
       "        [-3.7185e-01,  4.1338e-01],\n",
       "        [ 6.8029e-01, -1.5660e-01],\n",
       "        [ 6.5592e-01, -2.2277e-01],\n",
       "        [-5.3276e-01,  3.8609e-01],\n",
       "        [-4.1931e-01,  3.5374e-01],\n",
       "        [ 1.6347e-01,  2.4781e-01],\n",
       "        [ 7.2651e-02, -1.0906e-01],\n",
       "        [-2.8877e-01,  3.4633e-01],\n",
       "        [ 2.0699e-02,  1.8161e-01],\n",
       "        [-6.0894e-01,  7.5712e-02],\n",
       "        [-6.5911e-01,  3.0161e-01],\n",
       "        [-5.9759e-01,  1.6997e-01],\n",
       "        [ 4.9755e-04,  2.0514e-01],\n",
       "        [-1.3610e+00,  6.0075e-01],\n",
       "        [-1.8188e-01,  1.3853e-01],\n",
       "        [-2.3989e-02,  2.4307e-01],\n",
       "        [-2.7491e-01, -1.7885e-01],\n",
       "        [ 2.5532e-01,  1.2817e-02],\n",
       "        [-2.5643e-01,  2.0006e-01],\n",
       "        [-3.6008e-01,  3.7432e-01],\n",
       "        [-9.9269e-02,  4.1399e-01],\n",
       "        [ 7.6530e-02,  4.8757e-01],\n",
       "        [ 6.0609e-01, -4.1328e-02],\n",
       "        [-3.4839e-01,  5.9082e-02],\n",
       "        [ 2.5451e-01,  1.9633e-01],\n",
       "        [-1.3556e+00,  3.3130e-01],\n",
       "        [-2.8541e-01,  2.0446e-01],\n",
       "        [-3.3505e-01,  2.5468e-01],\n",
       "        [-1.0936e+00,  6.0370e-01],\n",
       "        [ 4.2078e-01,  2.3976e-01],\n",
       "        [ 1.2777e-02,  3.0343e-01],\n",
       "        [ 8.1959e-02, -3.1466e-02],\n",
       "        [-1.2963e-01,  1.9852e-01],\n",
       "        [ 9.2835e-02, -2.5973e-01],\n",
       "        [-1.1251e-01,  3.0895e-01],\n",
       "        [-3.9913e-01,  1.3678e-01],\n",
       "        [ 2.4255e-01,  3.6792e-01],\n",
       "        [-4.2808e-01,  6.6524e-02],\n",
       "        [-2.7770e-01,  2.3197e-01],\n",
       "        [-3.0576e-01,  3.1456e-01],\n",
       "        [ 2.2596e-01,  1.0482e-01],\n",
       "        [-8.6512e-01,  3.4222e-01],\n",
       "        [ 4.1114e-01,  2.8646e-01],\n",
       "        [-8.1276e-01,  1.7562e-01],\n",
       "        [ 2.5456e-03, -2.4549e-02],\n",
       "        [ 6.7787e-01, -5.6539e-01],\n",
       "        [-1.6668e-01,  4.1177e-02],\n",
       "        [ 6.7785e-02,  1.8102e-01],\n",
       "        [-7.0174e-01, -3.0349e-02],\n",
       "        [-5.3629e-01,  5.3464e-01],\n",
       "        [-1.4363e-01,  4.2112e-01],\n",
       "        [-6.1494e-01,  6.7587e-01],\n",
       "        [-1.9006e-04,  1.5971e-01],\n",
       "        [-2.3061e-01,  4.0635e-01],\n",
       "        [ 3.9431e-01,  5.0019e-01],\n",
       "        [-2.2917e-01,  4.7940e-01],\n",
       "        [-6.7048e-01,  5.6120e-01],\n",
       "        [-5.9611e-01,  3.9880e-01],\n",
       "        [ 1.9470e-03,  3.1132e-01],\n",
       "        [ 7.7422e-02,  1.1879e-01],\n",
       "        [ 8.7348e-01,  2.0068e-01],\n",
       "        [-7.3645e-02,  5.7595e-01],\n",
       "        [ 2.3439e-01,  1.9799e-01],\n",
       "        [ 1.9731e-02, -3.4774e-02],\n",
       "        [-4.2979e-01,  6.4274e-02],\n",
       "        [ 3.0392e-01, -2.0704e-01],\n",
       "        [-1.5814e-03, -1.6345e-02],\n",
       "        [-3.7796e-01,  1.6800e-01],\n",
       "        [-4.1068e-01,  5.9982e-01],\n",
       "        [-4.3682e-01,  3.8835e-02],\n",
       "        [ 5.4915e-02,  5.3673e-02],\n",
       "        [-2.0089e-01, -2.3077e-02],\n",
       "        [ 1.8910e-01,  1.6880e-01],\n",
       "        [ 3.6418e-02, -1.8453e-02],\n",
       "        [-7.0071e-01,  2.1629e-01],\n",
       "        [-2.4694e-01, -4.2879e-02],\n",
       "        [-4.2905e-01,  4.6810e-03],\n",
       "        [ 1.3604e-01,  5.8340e-01],\n",
       "        [-3.8524e-01,  2.8651e-01],\n",
       "        [ 8.6592e-01, -3.1105e-01],\n",
       "        [-5.9935e-01,  5.0488e-01],\n",
       "        [-3.3587e-01,  2.9377e-01],\n",
       "        [-3.0991e-01,  3.4861e-01],\n",
       "        [ 2.9873e-01, -1.9592e-01],\n",
       "        [-8.2647e-01,  1.8252e-01],\n",
       "        [-1.8915e-01,  3.8391e-01],\n",
       "        [-1.1656e-02,  2.4624e-01],\n",
       "        [ 2.9452e-02,  4.4122e-01],\n",
       "        [-4.0297e-01,  1.3332e-01],\n",
       "        [-5.1540e-01,  5.3577e-01]], grad_fn=<AddmmBackward0>)"
      ]
     },
     "execution_count": 76,
     "metadata": {},
     "output_type": "execute_result"
    }
   ],
   "source": [
    "y_pred"
   ]
  },
  {
   "cell_type": "markdown",
   "id": "d7290148-cb6d-48c0-96d8-3906868536fc",
   "metadata": {},
   "source": [
    "### Compute loss"
   ]
  },
  {
   "cell_type": "code",
   "execution_count": 77,
   "id": "a380da67-2757-4dea-b78d-8329978b4bd7",
   "metadata": {},
   "outputs": [
    {
     "name": "stdout",
     "output_type": "stream",
     "text": [
      "loss:  1.061033010482788\n"
     ]
    }
   ],
   "source": [
    "loss = criterion(y_pred, y)\n",
    "print('loss: ', loss.item())"
   ]
  },
  {
   "cell_type": "markdown",
   "id": "f0a7ac79-48f5-4942-8454-731876a884ad",
   "metadata": {},
   "source": [
    "### Backward pass"
   ]
  },
  {
   "cell_type": "code",
   "execution_count": 86,
   "id": "c68ac1ef-c657-421b-8758-956854268554",
   "metadata": {},
   "outputs": [],
   "source": [
    "loss.backward()"
   ]
  },
  {
   "cell_type": "markdown",
   "id": "58ab4882-baaa-41ea-8dcb-859f8154613e",
   "metadata": {},
   "source": [
    "### Print out the gradients"
   ]
  },
  {
   "cell_type": "code",
   "execution_count": 87,
   "id": "03eb59d8-a405-45e9-a897-861a5dd89a42",
   "metadata": {},
   "outputs": [
    {
     "name": "stdout",
     "output_type": "stream",
     "text": [
      "dL/dw:  tensor([[ 0.3284, -0.1349, -0.0966],\n",
      "        [-0.2074, -0.1234,  0.0205]])\n",
      "dL/db:  tensor([-0.0631,  0.1585])\n"
     ]
    }
   ],
   "source": [
    "print ('dL/dw: ', linear.weight.grad) \n",
    "print ('dL/db: ', linear.bias.grad)"
   ]
  },
  {
   "cell_type": "markdown",
   "id": "0c2de7de-f199-4ec1-83e6-eb4329252e20",
   "metadata": {},
   "source": [
    "### 1-step gradient descent"
   ]
  },
  {
   "cell_type": "code",
   "execution_count": 95,
   "id": "96faa01c-e7f5-4687-8b61-e799bf22965b",
   "metadata": {},
   "outputs": [],
   "source": [
    "optimizer.step()"
   ]
  },
  {
   "cell_type": "markdown",
   "id": "e067d8aa-50e8-4aa9-bc7a-1f85bb3a7901",
   "metadata": {},
   "source": [
    "### Print out the loss after 1-step gradient descent"
   ]
  },
  {
   "cell_type": "code",
   "execution_count": 96,
   "id": "d52539f5-baeb-4e1c-9eae-2b5c48738043",
   "metadata": {},
   "outputs": [
    {
     "name": "stdout",
     "output_type": "stream",
     "text": [
      "loss after 1 step optimization:  1.0438811779022217\n"
     ]
    }
   ],
   "source": [
    "pred = linear(x)\n",
    "loss = criterion(pred, y)\n",
    "print('loss after 1 step optimization: ', loss.item())"
   ]
  },
  {
   "cell_type": "markdown",
   "id": "5b6c0866-25fb-44ec-973b-8f1223c81790",
   "metadata": {
    "jp-MarkdownHeadingCollapsed": true
   },
   "source": [
    "# 3. Loading data from numpy"
   ]
  },
  {
   "cell_type": "markdown",
   "id": "68a27d62-dc31-454e-9453-f44d7bb457d4",
   "metadata": {},
   "source": [
    "### Create some data"
   ]
  },
  {
   "cell_type": "code",
   "execution_count": 2,
   "id": "808d99db-f5e2-4543-a0ba-dc6a6a50bc0b",
   "metadata": {},
   "outputs": [],
   "source": [
    "x = np.array([[1, 2], [3, 4]])\n",
    "\n",
    "y = torch.from_numpy(x)\n",
    "\n",
    "z = y.numpy()"
   ]
  },
  {
   "cell_type": "code",
   "execution_count": 8,
   "id": "43078938-077e-48fd-a1ee-16c0a6e7c1b4",
   "metadata": {},
   "outputs": [
    {
     "data": {
      "text/plain": [
       "array([[1, 2],\n",
       "       [3, 4]])"
      ]
     },
     "execution_count": 8,
     "metadata": {},
     "output_type": "execute_result"
    }
   ],
   "source": [
    "x"
   ]
  },
  {
   "cell_type": "code",
   "execution_count": 9,
   "id": "f6142fa0-a562-4e26-b69b-acd8a2be34de",
   "metadata": {},
   "outputs": [
    {
     "data": {
      "text/plain": [
       "tensor([[1, 2],\n",
       "        [3, 4]])"
      ]
     },
     "execution_count": 9,
     "metadata": {},
     "output_type": "execute_result"
    }
   ],
   "source": [
    "y"
   ]
  },
  {
   "cell_type": "code",
   "execution_count": 10,
   "id": "0333324a-78c1-4942-9abd-3483e85d982a",
   "metadata": {},
   "outputs": [
    {
     "data": {
      "text/plain": [
       "array([[1, 2],\n",
       "       [3, 4]])"
      ]
     },
     "execution_count": 10,
     "metadata": {},
     "output_type": "execute_result"
    }
   ],
   "source": [
    "x"
   ]
  },
  {
   "cell_type": "markdown",
   "id": "2f01dd5e-6dc7-4bbf-8563-89ecdda24d7a",
   "metadata": {},
   "source": [
    "# 4. External data & Pipeline"
   ]
  },
  {
   "cell_type": "markdown",
   "id": "93ea390d-4129-4823-bd06-f4916aa9e68e",
   "metadata": {},
   "source": [
    "### Download and construct CIFAR-10 dataset"
   ]
  },
  {
   "cell_type": "code",
   "execution_count": 11,
   "id": "0781d78d-b710-4096-8bb0-b72125f666f2",
   "metadata": {},
   "outputs": [
    {
     "name": "stderr",
     "output_type": "stream",
     "text": [
      "100.0%\n"
     ]
    }
   ],
   "source": [
    "train_dataset = torchvision.datasets.CIFAR10(\n",
    "    root='./data/',\n",
    "    train=True, \n",
    "    transform=transforms.ToTensor(),\n",
    "    download=True\n",
    ")"
   ]
  },
  {
   "cell_type": "markdown",
   "id": "70ac6583-1b9c-482f-8dbb-7661514725fa",
   "metadata": {},
   "source": [
    "### Fetch one data pair (read data from disk)"
   ]
  },
  {
   "cell_type": "code",
   "execution_count": 15,
   "id": "42024c86-fc6e-4fb7-8e68-10ab395a30b3",
   "metadata": {},
   "outputs": [
    {
     "name": "stdout",
     "output_type": "stream",
     "text": [
      "torch.Size([3, 32, 32])\n",
      "6\n"
     ]
    }
   ],
   "source": [
    "image, label = train_dataset[0]\n",
    "print (image.shape)\n",
    "print (label)"
   ]
  },
  {
   "cell_type": "code",
   "execution_count": 21,
   "id": "e99e567f-f234-4de5-b03f-8c423846096a",
   "metadata": {},
   "outputs": [],
   "source": [
    "train_loader = torch.utils.data.DataLoader(\n",
    "    dataset=train_dataset,\n",
    "    batch_size=128,\n",
    "    shuffle=True\n",
    ")"
   ]
  },
  {
   "cell_type": "code",
   "execution_count": 22,
   "id": "524c689e-e15a-4061-b3cd-478dd36b5a4a",
   "metadata": {},
   "outputs": [
    {
     "name": "stdout",
     "output_type": "stream",
     "text": [
      "torch.Size([128, 3, 32, 32])\n",
      "torch.Size([128])\n"
     ]
    }
   ],
   "source": [
    "for images, labels in train_loader:\n",
    "    print(images.shape)\n",
    "    print(labels.shape)\n",
    "    break"
   ]
  },
  {
   "cell_type": "markdown",
   "id": "cb43ffa8-551a-46e7-b7c8-7c2eb73c14ac",
   "metadata": {},
   "source": [
    "# 5. Pretrained model "
   ]
  },
  {
   "cell_type": "markdown",
   "id": "c98c9dd2-2c5f-4957-8d29-40f883e53065",
   "metadata": {},
   "source": [
    "### Download and load the pretrained ResNet-18"
   ]
  },
  {
   "cell_type": "code",
   "execution_count": 32,
   "id": "3765c8b5-4e0f-42eb-acb0-335ac6d8602a",
   "metadata": {},
   "outputs": [],
   "source": [
    "resnet = torchvision.models.resnet18(pretrained=True)"
   ]
  },
  {
   "cell_type": "code",
   "execution_count": 33,
   "id": "3e39e733-6b46-4ab3-8bfd-b1aa971c6c63",
   "metadata": {},
   "outputs": [
    {
     "data": {
      "text/plain": [
       "ResNet(\n",
       "  (conv1): Conv2d(3, 64, kernel_size=(7, 7), stride=(2, 2), padding=(3, 3), bias=False)\n",
       "  (bn1): BatchNorm2d(64, eps=1e-05, momentum=0.1, affine=True, track_running_stats=True)\n",
       "  (relu): ReLU(inplace=True)\n",
       "  (maxpool): MaxPool2d(kernel_size=3, stride=2, padding=1, dilation=1, ceil_mode=False)\n",
       "  (layer1): Sequential(\n",
       "    (0): BasicBlock(\n",
       "      (conv1): Conv2d(64, 64, kernel_size=(3, 3), stride=(1, 1), padding=(1, 1), bias=False)\n",
       "      (bn1): BatchNorm2d(64, eps=1e-05, momentum=0.1, affine=True, track_running_stats=True)\n",
       "      (relu): ReLU(inplace=True)\n",
       "      (conv2): Conv2d(64, 64, kernel_size=(3, 3), stride=(1, 1), padding=(1, 1), bias=False)\n",
       "      (bn2): BatchNorm2d(64, eps=1e-05, momentum=0.1, affine=True, track_running_stats=True)\n",
       "    )\n",
       "    (1): BasicBlock(\n",
       "      (conv1): Conv2d(64, 64, kernel_size=(3, 3), stride=(1, 1), padding=(1, 1), bias=False)\n",
       "      (bn1): BatchNorm2d(64, eps=1e-05, momentum=0.1, affine=True, track_running_stats=True)\n",
       "      (relu): ReLU(inplace=True)\n",
       "      (conv2): Conv2d(64, 64, kernel_size=(3, 3), stride=(1, 1), padding=(1, 1), bias=False)\n",
       "      (bn2): BatchNorm2d(64, eps=1e-05, momentum=0.1, affine=True, track_running_stats=True)\n",
       "    )\n",
       "  )\n",
       "  (layer2): Sequential(\n",
       "    (0): BasicBlock(\n",
       "      (conv1): Conv2d(64, 128, kernel_size=(3, 3), stride=(2, 2), padding=(1, 1), bias=False)\n",
       "      (bn1): BatchNorm2d(128, eps=1e-05, momentum=0.1, affine=True, track_running_stats=True)\n",
       "      (relu): ReLU(inplace=True)\n",
       "      (conv2): Conv2d(128, 128, kernel_size=(3, 3), stride=(1, 1), padding=(1, 1), bias=False)\n",
       "      (bn2): BatchNorm2d(128, eps=1e-05, momentum=0.1, affine=True, track_running_stats=True)\n",
       "      (downsample): Sequential(\n",
       "        (0): Conv2d(64, 128, kernel_size=(1, 1), stride=(2, 2), bias=False)\n",
       "        (1): BatchNorm2d(128, eps=1e-05, momentum=0.1, affine=True, track_running_stats=True)\n",
       "      )\n",
       "    )\n",
       "    (1): BasicBlock(\n",
       "      (conv1): Conv2d(128, 128, kernel_size=(3, 3), stride=(1, 1), padding=(1, 1), bias=False)\n",
       "      (bn1): BatchNorm2d(128, eps=1e-05, momentum=0.1, affine=True, track_running_stats=True)\n",
       "      (relu): ReLU(inplace=True)\n",
       "      (conv2): Conv2d(128, 128, kernel_size=(3, 3), stride=(1, 1), padding=(1, 1), bias=False)\n",
       "      (bn2): BatchNorm2d(128, eps=1e-05, momentum=0.1, affine=True, track_running_stats=True)\n",
       "    )\n",
       "  )\n",
       "  (layer3): Sequential(\n",
       "    (0): BasicBlock(\n",
       "      (conv1): Conv2d(128, 256, kernel_size=(3, 3), stride=(2, 2), padding=(1, 1), bias=False)\n",
       "      (bn1): BatchNorm2d(256, eps=1e-05, momentum=0.1, affine=True, track_running_stats=True)\n",
       "      (relu): ReLU(inplace=True)\n",
       "      (conv2): Conv2d(256, 256, kernel_size=(3, 3), stride=(1, 1), padding=(1, 1), bias=False)\n",
       "      (bn2): BatchNorm2d(256, eps=1e-05, momentum=0.1, affine=True, track_running_stats=True)\n",
       "      (downsample): Sequential(\n",
       "        (0): Conv2d(128, 256, kernel_size=(1, 1), stride=(2, 2), bias=False)\n",
       "        (1): BatchNorm2d(256, eps=1e-05, momentum=0.1, affine=True, track_running_stats=True)\n",
       "      )\n",
       "    )\n",
       "    (1): BasicBlock(\n",
       "      (conv1): Conv2d(256, 256, kernel_size=(3, 3), stride=(1, 1), padding=(1, 1), bias=False)\n",
       "      (bn1): BatchNorm2d(256, eps=1e-05, momentum=0.1, affine=True, track_running_stats=True)\n",
       "      (relu): ReLU(inplace=True)\n",
       "      (conv2): Conv2d(256, 256, kernel_size=(3, 3), stride=(1, 1), padding=(1, 1), bias=False)\n",
       "      (bn2): BatchNorm2d(256, eps=1e-05, momentum=0.1, affine=True, track_running_stats=True)\n",
       "    )\n",
       "  )\n",
       "  (layer4): Sequential(\n",
       "    (0): BasicBlock(\n",
       "      (conv1): Conv2d(256, 512, kernel_size=(3, 3), stride=(2, 2), padding=(1, 1), bias=False)\n",
       "      (bn1): BatchNorm2d(512, eps=1e-05, momentum=0.1, affine=True, track_running_stats=True)\n",
       "      (relu): ReLU(inplace=True)\n",
       "      (conv2): Conv2d(512, 512, kernel_size=(3, 3), stride=(1, 1), padding=(1, 1), bias=False)\n",
       "      (bn2): BatchNorm2d(512, eps=1e-05, momentum=0.1, affine=True, track_running_stats=True)\n",
       "      (downsample): Sequential(\n",
       "        (0): Conv2d(256, 512, kernel_size=(1, 1), stride=(2, 2), bias=False)\n",
       "        (1): BatchNorm2d(512, eps=1e-05, momentum=0.1, affine=True, track_running_stats=True)\n",
       "      )\n",
       "    )\n",
       "    (1): BasicBlock(\n",
       "      (conv1): Conv2d(512, 512, kernel_size=(3, 3), stride=(1, 1), padding=(1, 1), bias=False)\n",
       "      (bn1): BatchNorm2d(512, eps=1e-05, momentum=0.1, affine=True, track_running_stats=True)\n",
       "      (relu): ReLU(inplace=True)\n",
       "      (conv2): Conv2d(512, 512, kernel_size=(3, 3), stride=(1, 1), padding=(1, 1), bias=False)\n",
       "      (bn2): BatchNorm2d(512, eps=1e-05, momentum=0.1, affine=True, track_running_stats=True)\n",
       "    )\n",
       "  )\n",
       "  (avgpool): AdaptiveAvgPool2d(output_size=(1, 1))\n",
       "  (fc): Linear(in_features=512, out_features=1000, bias=True)\n",
       ")"
      ]
     },
     "execution_count": 33,
     "metadata": {},
     "output_type": "execute_result"
    }
   ],
   "source": [
    "resnet"
   ]
  },
  {
   "cell_type": "markdown",
   "id": "c4935aa9-a566-4a5b-956e-2b11b32f5f52",
   "metadata": {},
   "source": [
    "### For finetune only the top layer of the model"
   ]
  },
  {
   "cell_type": "code",
   "execution_count": 34,
   "id": "eebecaff-c348-42c3-a679-5e62b48ca1a5",
   "metadata": {},
   "outputs": [],
   "source": [
    "for param in resnet.parameters():\n",
    "    param.requires_grad = False"
   ]
  },
  {
   "cell_type": "markdown",
   "id": "0eba5368-b1bc-42ce-b3e6-00352fa203ae",
   "metadata": {},
   "source": [
    "### Replace the top layer for finetuning"
   ]
  },
  {
   "cell_type": "code",
   "execution_count": 36,
   "id": "0d87605b-43e6-45c8-9934-3b53fad00830",
   "metadata": {},
   "outputs": [],
   "source": [
    "in_features = resnet.fc.in_features\n",
    "out_features = 100\n",
    "resnet.fc = nn.Linear(in_features, out_features)"
   ]
  },
  {
   "cell_type": "markdown",
   "id": "9b9d5a25-a3ed-4924-b7cc-e638997008e2",
   "metadata": {},
   "source": [
    "### Forward pass"
   ]
  },
  {
   "cell_type": "code",
   "execution_count": 37,
   "id": "f547c0bc-7354-4e6a-8521-e292947f6fbb",
   "metadata": {},
   "outputs": [
    {
     "data": {
      "text/plain": [
       "torch.Size([3, 224, 224])"
      ]
     },
     "execution_count": 37,
     "metadata": {},
     "output_type": "execute_result"
    }
   ],
   "source": [
    "images = torch.randn(64, 3, 224, 224)\n",
    "images[0].shape"
   ]
  },
  {
   "cell_type": "code",
   "execution_count": 38,
   "id": "d8e024f3-675e-45ff-96f4-38e875873822",
   "metadata": {},
   "outputs": [
    {
     "name": "stdout",
     "output_type": "stream",
     "text": [
      "torch.Size([64, 100])\n"
     ]
    }
   ],
   "source": [
    "images = torch.randn(64, 3, 224, 224)\n",
    "outputs = resnet(images)\n",
    "print (outputs.size())"
   ]
  },
  {
   "cell_type": "code",
   "execution_count": 39,
   "id": "3e0e7992-3637-4256-ae0e-cf7d0997fae3",
   "metadata": {},
   "outputs": [
    {
     "data": {
      "text/plain": [
       "tensor([-0.5019, -0.0545, -0.5296,  0.4129,  0.0153, -0.8843,  0.9885,  0.8063,\n",
       "        -0.2758, -0.3808,  1.0926, -0.0715, -0.3366, -0.2349,  0.2234,  0.1740,\n",
       "        -0.6850,  0.3209, -0.8911,  0.5708,  0.7762, -0.1467,  0.1021,  0.6343,\n",
       "         0.2523,  1.2648,  0.1582,  0.3906,  0.0939,  0.1815,  0.7772,  0.0081,\n",
       "        -0.0233,  0.7498,  0.9638, -0.3107, -0.2081,  0.3330, -0.2011, -1.1087,\n",
       "         0.1977, -0.5717, -0.0508, -0.4596, -0.1632, -0.6783, -0.5145, -0.1912,\n",
       "         0.9394,  0.2807,  0.2784,  0.3100, -0.1038,  0.0270,  0.1064,  0.2386,\n",
       "        -0.2705,  0.3165,  0.3134,  0.0991, -1.2277, -0.0489, -0.2726,  0.3338,\n",
       "         0.0416, -0.7618,  0.0637, -0.9232, -0.4364, -0.6614, -0.2674, -0.2612,\n",
       "        -0.0123,  0.0618,  0.6808,  0.0630,  0.9817,  0.7335, -0.7537,  0.1655,\n",
       "         0.3352, -0.9303, -0.8223,  0.1555,  0.2796, -0.6928,  0.4881,  0.0952,\n",
       "         1.5915,  0.7441, -0.4268, -0.2594, -0.5409, -0.0896, -0.7838, -0.6328,\n",
       "        -0.1225,  0.4468,  0.5077,  0.1119], grad_fn=<SelectBackward0>)"
      ]
     },
     "execution_count": 39,
     "metadata": {},
     "output_type": "execute_result"
    }
   ],
   "source": [
    "outputs[0]"
   ]
  },
  {
   "cell_type": "code",
   "execution_count": 43,
   "id": "c2097398-e0a0-4a6f-be6b-531f70b992c2",
   "metadata": {},
   "outputs": [
    {
     "data": {
      "text/plain": [
       "ResNet(\n",
       "  (conv1): Conv2d(3, 64, kernel_size=(7, 7), stride=(2, 2), padding=(3, 3), bias=False)\n",
       "  (bn1): BatchNorm2d(64, eps=1e-05, momentum=0.1, affine=True, track_running_stats=True)\n",
       "  (relu): ReLU(inplace=True)\n",
       "  (maxpool): MaxPool2d(kernel_size=3, stride=2, padding=1, dilation=1, ceil_mode=False)\n",
       "  (layer1): Sequential(\n",
       "    (0): BasicBlock(\n",
       "      (conv1): Conv2d(64, 64, kernel_size=(3, 3), stride=(1, 1), padding=(1, 1), bias=False)\n",
       "      (bn1): BatchNorm2d(64, eps=1e-05, momentum=0.1, affine=True, track_running_stats=True)\n",
       "      (relu): ReLU(inplace=True)\n",
       "      (conv2): Conv2d(64, 64, kernel_size=(3, 3), stride=(1, 1), padding=(1, 1), bias=False)\n",
       "      (bn2): BatchNorm2d(64, eps=1e-05, momentum=0.1, affine=True, track_running_stats=True)\n",
       "    )\n",
       "    (1): BasicBlock(\n",
       "      (conv1): Conv2d(64, 64, kernel_size=(3, 3), stride=(1, 1), padding=(1, 1), bias=False)\n",
       "      (bn1): BatchNorm2d(64, eps=1e-05, momentum=0.1, affine=True, track_running_stats=True)\n",
       "      (relu): ReLU(inplace=True)\n",
       "      (conv2): Conv2d(64, 64, kernel_size=(3, 3), stride=(1, 1), padding=(1, 1), bias=False)\n",
       "      (bn2): BatchNorm2d(64, eps=1e-05, momentum=0.1, affine=True, track_running_stats=True)\n",
       "    )\n",
       "  )\n",
       "  (layer2): Sequential(\n",
       "    (0): BasicBlock(\n",
       "      (conv1): Conv2d(64, 128, kernel_size=(3, 3), stride=(2, 2), padding=(1, 1), bias=False)\n",
       "      (bn1): BatchNorm2d(128, eps=1e-05, momentum=0.1, affine=True, track_running_stats=True)\n",
       "      (relu): ReLU(inplace=True)\n",
       "      (conv2): Conv2d(128, 128, kernel_size=(3, 3), stride=(1, 1), padding=(1, 1), bias=False)\n",
       "      (bn2): BatchNorm2d(128, eps=1e-05, momentum=0.1, affine=True, track_running_stats=True)\n",
       "      (downsample): Sequential(\n",
       "        (0): Conv2d(64, 128, kernel_size=(1, 1), stride=(2, 2), bias=False)\n",
       "        (1): BatchNorm2d(128, eps=1e-05, momentum=0.1, affine=True, track_running_stats=True)\n",
       "      )\n",
       "    )\n",
       "    (1): BasicBlock(\n",
       "      (conv1): Conv2d(128, 128, kernel_size=(3, 3), stride=(1, 1), padding=(1, 1), bias=False)\n",
       "      (bn1): BatchNorm2d(128, eps=1e-05, momentum=0.1, affine=True, track_running_stats=True)\n",
       "      (relu): ReLU(inplace=True)\n",
       "      (conv2): Conv2d(128, 128, kernel_size=(3, 3), stride=(1, 1), padding=(1, 1), bias=False)\n",
       "      (bn2): BatchNorm2d(128, eps=1e-05, momentum=0.1, affine=True, track_running_stats=True)\n",
       "    )\n",
       "  )\n",
       "  (layer3): Sequential(\n",
       "    (0): BasicBlock(\n",
       "      (conv1): Conv2d(128, 256, kernel_size=(3, 3), stride=(2, 2), padding=(1, 1), bias=False)\n",
       "      (bn1): BatchNorm2d(256, eps=1e-05, momentum=0.1, affine=True, track_running_stats=True)\n",
       "      (relu): ReLU(inplace=True)\n",
       "      (conv2): Conv2d(256, 256, kernel_size=(3, 3), stride=(1, 1), padding=(1, 1), bias=False)\n",
       "      (bn2): BatchNorm2d(256, eps=1e-05, momentum=0.1, affine=True, track_running_stats=True)\n",
       "      (downsample): Sequential(\n",
       "        (0): Conv2d(128, 256, kernel_size=(1, 1), stride=(2, 2), bias=False)\n",
       "        (1): BatchNorm2d(256, eps=1e-05, momentum=0.1, affine=True, track_running_stats=True)\n",
       "      )\n",
       "    )\n",
       "    (1): BasicBlock(\n",
       "      (conv1): Conv2d(256, 256, kernel_size=(3, 3), stride=(1, 1), padding=(1, 1), bias=False)\n",
       "      (bn1): BatchNorm2d(256, eps=1e-05, momentum=0.1, affine=True, track_running_stats=True)\n",
       "      (relu): ReLU(inplace=True)\n",
       "      (conv2): Conv2d(256, 256, kernel_size=(3, 3), stride=(1, 1), padding=(1, 1), bias=False)\n",
       "      (bn2): BatchNorm2d(256, eps=1e-05, momentum=0.1, affine=True, track_running_stats=True)\n",
       "    )\n",
       "  )\n",
       "  (layer4): Sequential(\n",
       "    (0): BasicBlock(\n",
       "      (conv1): Conv2d(256, 512, kernel_size=(3, 3), stride=(2, 2), padding=(1, 1), bias=False)\n",
       "      (bn1): BatchNorm2d(512, eps=1e-05, momentum=0.1, affine=True, track_running_stats=True)\n",
       "      (relu): ReLU(inplace=True)\n",
       "      (conv2): Conv2d(512, 512, kernel_size=(3, 3), stride=(1, 1), padding=(1, 1), bias=False)\n",
       "      (bn2): BatchNorm2d(512, eps=1e-05, momentum=0.1, affine=True, track_running_stats=True)\n",
       "      (downsample): Sequential(\n",
       "        (0): Conv2d(256, 512, kernel_size=(1, 1), stride=(2, 2), bias=False)\n",
       "        (1): BatchNorm2d(512, eps=1e-05, momentum=0.1, affine=True, track_running_stats=True)\n",
       "      )\n",
       "    )\n",
       "    (1): BasicBlock(\n",
       "      (conv1): Conv2d(512, 512, kernel_size=(3, 3), stride=(1, 1), padding=(1, 1), bias=False)\n",
       "      (bn1): BatchNorm2d(512, eps=1e-05, momentum=0.1, affine=True, track_running_stats=True)\n",
       "      (relu): ReLU(inplace=True)\n",
       "      (conv2): Conv2d(512, 512, kernel_size=(3, 3), stride=(1, 1), padding=(1, 1), bias=False)\n",
       "      (bn2): BatchNorm2d(512, eps=1e-05, momentum=0.1, affine=True, track_running_stats=True)\n",
       "    )\n",
       "  )\n",
       "  (avgpool): AdaptiveAvgPool2d(output_size=(1, 1))\n",
       "  (fc): Linear(in_features=512, out_features=100, bias=True)\n",
       ")"
      ]
     },
     "execution_count": 43,
     "metadata": {},
     "output_type": "execute_result"
    }
   ],
   "source": [
    "resnet"
   ]
  },
  {
   "cell_type": "markdown",
   "id": "0aa870fd-5f6f-4bf8-bd44-ee4c335409b3",
   "metadata": {},
   "source": [
    "# 6. Save the model"
   ]
  },
  {
   "cell_type": "code",
   "execution_count": 45,
   "id": "2697f8de-d790-448d-92f2-82b7b2cd0892",
   "metadata": {},
   "outputs": [],
   "source": [
    "torch.save(resnet, 'model.ckpt')"
   ]
  },
  {
   "cell_type": "code",
   "execution_count": 48,
   "id": "831361ce-0bff-4581-8c54-3a1f89821aec",
   "metadata": {},
   "outputs": [],
   "source": [
    "torch.save(resnet.state_dict(), 'params.ckpt')"
   ]
  },
  {
   "cell_type": "markdown",
   "id": "7fdb9515-4334-4fcc-b357-886c589b9226",
   "metadata": {},
   "source": [
    "### Load model modified"
   ]
  },
  {
   "cell_type": "code",
   "execution_count": 51,
   "id": "6ca929aa-1ac2-46ac-b8b8-e6cff5608c18",
   "metadata": {},
   "outputs": [],
   "source": [
    "model = torch.load('./model.ckpt', weights_only=False)"
   ]
  },
  {
   "cell_type": "code",
   "execution_count": 49,
   "id": "3fbde0d0-d750-4678-b093-4f81a5be610f",
   "metadata": {},
   "outputs": [],
   "source": [
    "model = resnet.load_state_dict(torch.load('params.ckpt'))"
   ]
  },
  {
   "cell_type": "code",
   "execution_count": null,
   "id": "87ec43be-e378-4840-b0b4-25a0ef04a936",
   "metadata": {},
   "outputs": [],
   "source": []
  }
 ],
 "metadata": {
  "kernelspec": {
   "display_name": "Python 3 (ipykernel)",
   "language": "python",
   "name": "python3"
  },
  "language_info": {
   "codemirror_mode": {
    "name": "ipython",
    "version": 3
   },
   "file_extension": ".py",
   "mimetype": "text/x-python",
   "name": "python",
   "nbconvert_exporter": "python",
   "pygments_lexer": "ipython3",
   "version": "3.10.18"
  }
 },
 "nbformat": 4,
 "nbformat_minor": 5
}
