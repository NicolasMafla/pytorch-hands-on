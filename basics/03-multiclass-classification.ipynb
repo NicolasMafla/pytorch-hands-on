{
 "cells": [
  {
   "cell_type": "code",
   "execution_count": 36,
   "id": "38524f61-ef0e-4eff-a874-2ea2a46bac98",
   "metadata": {},
   "outputs": [],
   "source": [
    "import torch\n",
    "import torch.nn as nn\n",
    "import torchvision\n",
    "import torchvision.transforms as transforms"
   ]
  },
  {
   "cell_type": "markdown",
   "id": "774ed820-9664-4856-a0d8-3ccbfc9dd1ec",
   "metadata": {},
   "source": [
    "### Hyper-parameters"
   ]
  },
  {
   "cell_type": "code",
   "execution_count": 43,
   "id": "cb5772ff-3aa0-4cbb-b71a-8356cde08979",
   "metadata": {},
   "outputs": [],
   "source": [
    "input_size = 28 * 28\n",
    "num_classes = 10\n",
    "num_epochs = 10\n",
    "batch_size = 64\n",
    "learning_rate = 0.001"
   ]
  },
  {
   "cell_type": "markdown",
   "id": "a07dfdce-2a19-4ee9-a53b-75808bab8e78",
   "metadata": {},
   "source": [
    "### MNIST dataset (images and labels)"
   ]
  },
  {
   "cell_type": "code",
   "execution_count": 26,
   "id": "c2a03f3f-9945-4ab6-85e7-f468d8f40a91",
   "metadata": {},
   "outputs": [],
   "source": [
    "train_dataset = torchvision.datasets.MNIST(\n",
    "    root='./data', \n",
    "    train=True, \n",
    "    transform=transforms.ToTensor(),\n",
    "    download=True\n",
    ")\n",
    "\n",
    "test_dataset = torchvision.datasets.MNIST(\n",
    "    root='./data', \n",
    "    train=False, \n",
    "    transform=transforms.ToTensor()\n",
    ")"
   ]
  },
  {
   "cell_type": "code",
   "execution_count": 38,
   "id": "1ec19407-9d20-41e4-9d52-e8df9ddb9a7d",
   "metadata": {},
   "outputs": [
    {
     "data": {
      "text/plain": [
       "60000"
      ]
     },
     "execution_count": 38,
     "metadata": {},
     "output_type": "execute_result"
    }
   ],
   "source": [
    "len(train_dataset)"
   ]
  },
  {
   "cell_type": "code",
   "execution_count": 39,
   "id": "65f462e6-81e5-470a-bed3-e8e112d3e9e0",
   "metadata": {},
   "outputs": [
    {
     "data": {
      "text/plain": [
       "10000"
      ]
     },
     "execution_count": 39,
     "metadata": {},
     "output_type": "execute_result"
    }
   ],
   "source": [
    "len(test_dataset)"
   ]
  },
  {
   "cell_type": "markdown",
   "id": "e533d144-c67b-469c-ac38-8da4cf684337",
   "metadata": {},
   "source": [
    "### Data loader (input pipeline)"
   ]
  },
  {
   "cell_type": "code",
   "execution_count": 44,
   "id": "3c26ad18-d481-4854-b001-6507ecb91632",
   "metadata": {},
   "outputs": [],
   "source": [
    "train_loader = torch.utils.data.DataLoader(\n",
    "    dataset=train_dataset, \n",
    "    batch_size=batch_size, \n",
    "    shuffle=True\n",
    ")\n",
    "\n",
    "test_loader = torch.utils.data.DataLoader(\n",
    "    dataset=test_dataset, \n",
    "    batch_size=batch_size, \n",
    "    shuffle=False\n",
    ")"
   ]
  },
  {
   "cell_type": "code",
   "execution_count": 45,
   "id": "cc66b26e-fa89-4d7c-bf30-49930a80d553",
   "metadata": {},
   "outputs": [
    {
     "name": "stdout",
     "output_type": "stream",
     "text": [
      "torch.Size([64, 1, 28, 28])\n",
      "torch.Size([64])\n"
     ]
    }
   ],
   "source": [
    "for images, labels in train_loader:\n",
    "    print(images.shape)\n",
    "    print(labels.shape)\n",
    "    break"
   ]
  },
  {
   "cell_type": "markdown",
   "id": "c4253e90-9507-4f83-b390-c02e5edd51cc",
   "metadata": {},
   "source": [
    "### Logistic regression model"
   ]
  },
  {
   "cell_type": "code",
   "execution_count": 46,
   "id": "a8af6f53-b452-4ffb-a6ec-10ebe36eb918",
   "metadata": {},
   "outputs": [],
   "source": [
    "model = nn.Linear(input_size, num_classes)"
   ]
  },
  {
   "cell_type": "code",
   "execution_count": 47,
   "id": "4198f8a5-8e11-4d7c-bce6-8929d9b37165",
   "metadata": {},
   "outputs": [
    {
     "data": {
      "text/plain": [
       "Linear(in_features=784, out_features=10, bias=True)"
      ]
     },
     "execution_count": 47,
     "metadata": {},
     "output_type": "execute_result"
    }
   ],
   "source": [
    "model"
   ]
  },
  {
   "cell_type": "markdown",
   "id": "4296d399-6de3-4b62-8b2f-077d3b6cc3c7",
   "metadata": {},
   "source": [
    "### Loss and optimizer"
   ]
  },
  {
   "cell_type": "code",
   "execution_count": 48,
   "id": "45e5c4b1-5778-4799-ae3c-0f4bcdde273d",
   "metadata": {},
   "outputs": [],
   "source": [
    "criterion = nn.CrossEntropyLoss()  \n",
    "optimizer = torch.optim.SGD(model.parameters(), lr=learning_rate)  "
   ]
  },
  {
   "cell_type": "markdown",
   "id": "e0a830ad-01c3-4801-9459-ce5e264edda9",
   "metadata": {},
   "source": [
    "### Train the model"
   ]
  },
  {
   "cell_type": "code",
   "execution_count": 62,
   "id": "5a21c45a-b78c-43f1-9a6f-443e86092221",
   "metadata": {},
   "outputs": [
    {
     "name": "stdout",
     "output_type": "stream",
     "text": [
      "Epoch [1/10], Step [100/938], Loss: 0.6081\n",
      "Epoch [1/10], Step [200/938], Loss: 0.6736\n",
      "Epoch [1/10], Step [300/938], Loss: 0.6894\n",
      "Epoch [1/10], Step [400/938], Loss: 0.5556\n",
      "Epoch [1/10], Step [500/938], Loss: 0.6878\n",
      "Epoch [1/10], Step [600/938], Loss: 0.5552\n",
      "Epoch [1/10], Step [700/938], Loss: 0.5222\n",
      "Epoch [1/10], Step [800/938], Loss: 0.5659\n",
      "Epoch [1/10], Step [900/938], Loss: 0.7533\n",
      "Epoch [2/10], Step [100/938], Loss: 0.5469\n",
      "Epoch [2/10], Step [200/938], Loss: 0.5368\n",
      "Epoch [2/10], Step [300/938], Loss: 0.5602\n",
      "Epoch [2/10], Step [400/938], Loss: 0.6839\n",
      "Epoch [2/10], Step [500/938], Loss: 0.7213\n",
      "Epoch [2/10], Step [600/938], Loss: 0.5577\n",
      "Epoch [2/10], Step [700/938], Loss: 0.5075\n",
      "Epoch [2/10], Step [800/938], Loss: 0.4481\n",
      "Epoch [2/10], Step [900/938], Loss: 0.6249\n",
      "Epoch [3/10], Step [100/938], Loss: 0.6912\n",
      "Epoch [3/10], Step [200/938], Loss: 0.4905\n",
      "Epoch [3/10], Step [300/938], Loss: 0.6103\n",
      "Epoch [3/10], Step [400/938], Loss: 0.5623\n",
      "Epoch [3/10], Step [500/938], Loss: 0.5792\n",
      "Epoch [3/10], Step [600/938], Loss: 0.7398\n",
      "Epoch [3/10], Step [700/938], Loss: 0.4275\n",
      "Epoch [3/10], Step [800/938], Loss: 0.5223\n",
      "Epoch [3/10], Step [900/938], Loss: 0.5139\n",
      "Epoch [4/10], Step [100/938], Loss: 0.4989\n",
      "Epoch [4/10], Step [200/938], Loss: 0.6190\n",
      "Epoch [4/10], Step [300/938], Loss: 0.4622\n",
      "Epoch [4/10], Step [400/938], Loss: 0.4586\n",
      "Epoch [4/10], Step [500/938], Loss: 0.6423\n",
      "Epoch [4/10], Step [600/938], Loss: 0.4664\n",
      "Epoch [4/10], Step [700/938], Loss: 0.6227\n",
      "Epoch [4/10], Step [800/938], Loss: 0.4943\n",
      "Epoch [4/10], Step [900/938], Loss: 0.4344\n",
      "Epoch [5/10], Step [100/938], Loss: 0.5184\n",
      "Epoch [5/10], Step [200/938], Loss: 0.7303\n",
      "Epoch [5/10], Step [300/938], Loss: 0.5373\n",
      "Epoch [5/10], Step [400/938], Loss: 0.4823\n",
      "Epoch [5/10], Step [500/938], Loss: 0.6172\n",
      "Epoch [5/10], Step [600/938], Loss: 0.7248\n",
      "Epoch [5/10], Step [700/938], Loss: 0.4876\n",
      "Epoch [5/10], Step [800/938], Loss: 0.6330\n",
      "Epoch [5/10], Step [900/938], Loss: 0.4858\n",
      "Epoch [6/10], Step [100/938], Loss: 0.5640\n",
      "Epoch [6/10], Step [200/938], Loss: 0.5455\n",
      "Epoch [6/10], Step [300/938], Loss: 0.3842\n",
      "Epoch [6/10], Step [400/938], Loss: 0.4501\n",
      "Epoch [6/10], Step [500/938], Loss: 0.5359\n",
      "Epoch [6/10], Step [600/938], Loss: 0.4590\n",
      "Epoch [6/10], Step [700/938], Loss: 0.5437\n",
      "Epoch [6/10], Step [800/938], Loss: 0.5904\n",
      "Epoch [6/10], Step [900/938], Loss: 0.5394\n",
      "Epoch [7/10], Step [100/938], Loss: 0.4668\n",
      "Epoch [7/10], Step [200/938], Loss: 0.5359\n",
      "Epoch [7/10], Step [300/938], Loss: 0.6062\n",
      "Epoch [7/10], Step [400/938], Loss: 0.4800\n",
      "Epoch [7/10], Step [500/938], Loss: 0.4608\n",
      "Epoch [7/10], Step [600/938], Loss: 0.6359\n",
      "Epoch [7/10], Step [700/938], Loss: 0.5472\n",
      "Epoch [7/10], Step [800/938], Loss: 0.5513\n",
      "Epoch [7/10], Step [900/938], Loss: 0.6207\n",
      "Epoch [8/10], Step [100/938], Loss: 0.4822\n",
      "Epoch [8/10], Step [200/938], Loss: 0.5782\n",
      "Epoch [8/10], Step [300/938], Loss: 0.7075\n",
      "Epoch [8/10], Step [400/938], Loss: 0.4896\n",
      "Epoch [8/10], Step [500/938], Loss: 0.6605\n",
      "Epoch [8/10], Step [600/938], Loss: 0.5419\n",
      "Epoch [8/10], Step [700/938], Loss: 0.4461\n",
      "Epoch [8/10], Step [800/938], Loss: 0.4483\n",
      "Epoch [8/10], Step [900/938], Loss: 0.4891\n",
      "Epoch [9/10], Step [100/938], Loss: 0.4115\n",
      "Epoch [9/10], Step [200/938], Loss: 0.4273\n",
      "Epoch [9/10], Step [300/938], Loss: 0.3866\n",
      "Epoch [9/10], Step [400/938], Loss: 0.5658\n",
      "Epoch [9/10], Step [500/938], Loss: 0.4451\n",
      "Epoch [9/10], Step [600/938], Loss: 0.5469\n",
      "Epoch [9/10], Step [700/938], Loss: 0.5983\n",
      "Epoch [9/10], Step [800/938], Loss: 0.3953\n",
      "Epoch [9/10], Step [900/938], Loss: 0.5013\n",
      "Epoch [10/10], Step [100/938], Loss: 0.6160\n",
      "Epoch [10/10], Step [200/938], Loss: 0.4172\n",
      "Epoch [10/10], Step [300/938], Loss: 0.6235\n",
      "Epoch [10/10], Step [400/938], Loss: 0.4102\n",
      "Epoch [10/10], Step [500/938], Loss: 0.4535\n",
      "Epoch [10/10], Step [600/938], Loss: 0.3435\n",
      "Epoch [10/10], Step [700/938], Loss: 0.4993\n",
      "Epoch [10/10], Step [800/938], Loss: 0.4370\n",
      "Epoch [10/10], Step [900/938], Loss: 0.3478\n"
     ]
    }
   ],
   "source": [
    "losses = []\n",
    "total_step = len(train_loader)\n",
    "for epoch in range(num_epochs):\n",
    "    for i, (images, labels) in enumerate(train_loader):\n",
    "        images = images.reshape(-1, input_size)\n",
    "\n",
    "        outputs = model(images)\n",
    "        loss = criterion(outputs, labels)\n",
    "        \n",
    "        optimizer.zero_grad()\n",
    "        loss.backward()\n",
    "        optimizer.step()\n",
    "        \n",
    "        if (i+1) % 100 == 0:\n",
    "            losses.append(loss.item())\n",
    "            print (f'Epoch [{epoch+1}/{num_epochs}], Step [{i+1}/{total_step}], Loss: {loss.item():.4f}')"
   ]
  },
  {
   "cell_type": "markdown",
   "id": "629805de-0693-4f54-bb5b-e678f5971b47",
   "metadata": {},
   "source": [
    "### Test the model"
   ]
  },
  {
   "cell_type": "code",
   "execution_count": 63,
   "id": "bab221c8-d5cf-44de-9d38-f88a687d0d2b",
   "metadata": {},
   "outputs": [
    {
     "name": "stdout",
     "output_type": "stream",
     "text": [
      "Accuracy of the model on the 10000 test images: 88.38999938964844 %\n"
     ]
    }
   ],
   "source": [
    "with torch.no_grad():\n",
    "    correct = 0\n",
    "    total = 0\n",
    "    for images, labels in test_loader:\n",
    "        images = images.reshape(-1, input_size)\n",
    "        outputs = model(images)\n",
    "        logits, predicted = torch.max(outputs.data, 1)\n",
    "        total += labels.size(0)\n",
    "        correct += (predicted == labels).sum()\n",
    "\n",
    "    print('Accuracy of the model on the 10000 test images: {} %'.format(100 * correct / total))"
   ]
  },
  {
   "cell_type": "code",
   "execution_count": null,
   "id": "0b77bfe5-4431-4348-979f-ec0d56678422",
   "metadata": {},
   "outputs": [],
   "source": []
  }
 ],
 "metadata": {
  "kernelspec": {
   "display_name": "Python 3 (ipykernel)",
   "language": "python",
   "name": "python3"
  },
  "language_info": {
   "codemirror_mode": {
    "name": "ipython",
    "version": 3
   },
   "file_extension": ".py",
   "mimetype": "text/x-python",
   "name": "python",
   "nbconvert_exporter": "python",
   "pygments_lexer": "ipython3",
   "version": "3.10.18"
  }
 },
 "nbformat": 4,
 "nbformat_minor": 5
}
