{
 "cells": [
  {
   "cell_type": "code",
   "execution_count": 1,
   "id": "088fe7c1-3c1b-465b-87b9-1acf381b36d2",
   "metadata": {},
   "outputs": [],
   "source": [
    "import torch\n",
    "import torch.nn as nn\n",
    "import torchvision\n",
    "import torchvision.transforms as transforms"
   ]
  },
  {
   "cell_type": "markdown",
   "id": "9b4099e5-d194-4269-a150-76d10d2e517f",
   "metadata": {},
   "source": [
    "### Device configuration"
   ]
  },
  {
   "cell_type": "code",
   "execution_count": 2,
   "id": "bf302c25-fca5-4041-a385-5d23800c2408",
   "metadata": {},
   "outputs": [
    {
     "data": {
      "text/plain": [
       "device(type='cpu')"
      ]
     },
     "execution_count": 2,
     "metadata": {},
     "output_type": "execute_result"
    }
   ],
   "source": [
    "device = torch.device('cuda' if torch.cuda.is_available() else 'cpu')\n",
    "device"
   ]
  },
  {
   "cell_type": "markdown",
   "id": "665c07e1-dd50-4850-9d88-3d703a49f70d",
   "metadata": {},
   "source": [
    "### Hyper-parameters "
   ]
  },
  {
   "cell_type": "code",
   "execution_count": 3,
   "id": "6165c9b3-acc9-43e6-a350-8998f6aafee3",
   "metadata": {},
   "outputs": [],
   "source": [
    "input_size = 784\n",
    "hidden_size = 500\n",
    "num_classes = 10\n",
    "num_epochs = 5\n",
    "batch_size = 128\n",
    "learning_rate = 0.001"
   ]
  },
  {
   "cell_type": "markdown",
   "id": "c9994e17-aed6-447c-abf5-71908a5b1737",
   "metadata": {},
   "source": [
    "### MNIST dataset "
   ]
  },
  {
   "cell_type": "code",
   "execution_count": 4,
   "id": "c6176872-a51f-437b-9068-2b9e95852904",
   "metadata": {},
   "outputs": [],
   "source": [
    "train_dataset = torchvision.datasets.MNIST(\n",
    "    root='./data', \n",
    "    train=True, \n",
    "    transform=transforms.ToTensor(),\n",
    "    download=True\n",
    ")\n",
    "\n",
    "test_dataset = torchvision.datasets.MNIST(\n",
    "    root='./data', \n",
    "    train=False, \n",
    "    transform=transforms.ToTensor()\n",
    ")"
   ]
  },
  {
   "cell_type": "markdown",
   "id": "931405d2-0a53-4b8b-b976-ca6a64fa935c",
   "metadata": {},
   "source": [
    "### Data loader"
   ]
  },
  {
   "cell_type": "code",
   "execution_count": 5,
   "id": "651861bc-82c7-4539-96ab-8964baadceb5",
   "metadata": {},
   "outputs": [],
   "source": [
    "train_loader = torch.utils.data.DataLoader(\n",
    "    dataset=train_dataset, \n",
    "    batch_size=batch_size, \n",
    "    shuffle=True\n",
    ")\n",
    "\n",
    "test_loader = torch.utils.data.DataLoader(\n",
    "    dataset=test_dataset, \n",
    "    batch_size=batch_size, \n",
    "    shuffle=False\n",
    ")"
   ]
  },
  {
   "cell_type": "markdown",
   "id": "32afc927-9010-4526-b8b0-ecc8fc3edb9c",
   "metadata": {},
   "source": [
    "### Fully connected neural network with one hidden layer"
   ]
  },
  {
   "cell_type": "code",
   "execution_count": 6,
   "id": "fe5279a6-2c1b-4bc6-ab67-a3b0c9708d06",
   "metadata": {},
   "outputs": [],
   "source": [
    "class NeuralNet(nn.Module):\n",
    "    def __init__(self, input_size, hidden_size, num_classes):\n",
    "        super().__init__()\n",
    "        self.fc1 = nn.Linear(input_size, hidden_size) \n",
    "        self.relu = nn.ReLU()\n",
    "        self.fc2 = nn.Linear(hidden_size, num_classes)  \n",
    "    \n",
    "    def forward(self, x):\n",
    "        out = self.fc1(x)\n",
    "        out = self.relu(out)\n",
    "        out = self.fc2(out)\n",
    "        return out\n",
    "\n",
    "model = NeuralNet(input_size, hidden_size, num_classes).to(device)"
   ]
  },
  {
   "cell_type": "markdown",
   "id": "e384178d-14cb-47f0-a6e0-1a4a7ea3b41d",
   "metadata": {},
   "source": [
    "### Loss and optimizer"
   ]
  },
  {
   "cell_type": "code",
   "execution_count": 7,
   "id": "b86dd06c-6875-4b7e-9f53-dfa6686af06f",
   "metadata": {},
   "outputs": [],
   "source": [
    "criterion = nn.CrossEntropyLoss()\n",
    "optimizer = torch.optim.Adam(model.parameters(), lr=learning_rate)"
   ]
  },
  {
   "cell_type": "markdown",
   "id": "6aa903f3-732c-472e-a440-c5a8de5c4b0d",
   "metadata": {},
   "source": [
    "### Train the model"
   ]
  },
  {
   "cell_type": "code",
   "execution_count": 8,
   "id": "a200455c-8e65-4638-95d8-c11d6980840d",
   "metadata": {},
   "outputs": [
    {
     "name": "stdout",
     "output_type": "stream",
     "text": [
      "Epoch [1/5], Step [100/469], Loss: 0.3463\n",
      "Epoch [1/5], Step [200/469], Loss: 0.3836\n",
      "Epoch [1/5], Step [300/469], Loss: 0.2738\n",
      "Epoch [1/5], Step [400/469], Loss: 0.1502\n",
      "Epoch [2/5], Step [100/469], Loss: 0.0911\n",
      "Epoch [2/5], Step [200/469], Loss: 0.1166\n",
      "Epoch [2/5], Step [300/469], Loss: 0.0916\n",
      "Epoch [2/5], Step [400/469], Loss: 0.1190\n",
      "Epoch [3/5], Step [100/469], Loss: 0.1100\n",
      "Epoch [3/5], Step [200/469], Loss: 0.0262\n",
      "Epoch [3/5], Step [300/469], Loss: 0.0659\n",
      "Epoch [3/5], Step [400/469], Loss: 0.0917\n",
      "Epoch [4/5], Step [100/469], Loss: 0.0165\n",
      "Epoch [4/5], Step [200/469], Loss: 0.1072\n",
      "Epoch [4/5], Step [300/469], Loss: 0.0227\n",
      "Epoch [4/5], Step [400/469], Loss: 0.1026\n",
      "Epoch [5/5], Step [100/469], Loss: 0.0316\n",
      "Epoch [5/5], Step [200/469], Loss: 0.0146\n",
      "Epoch [5/5], Step [300/469], Loss: 0.1035\n",
      "Epoch [5/5], Step [400/469], Loss: 0.0284\n"
     ]
    }
   ],
   "source": [
    "total_step = len(train_loader)\n",
    "for epoch in range(num_epochs):\n",
    "    for i, (images, labels) in enumerate(train_loader):  \n",
    "        # Move tensors to the configured device\n",
    "        images = images.reshape(-1, 28*28).to(device)\n",
    "        labels = labels.to(device)\n",
    "        \n",
    "        # Forward pass\n",
    "        outputs = model(images)\n",
    "        loss = criterion(outputs, labels)\n",
    "        \n",
    "        # Backward and optimize\n",
    "        optimizer.zero_grad()\n",
    "        loss.backward()\n",
    "        optimizer.step()\n",
    "        \n",
    "        if (i+1) % 100 == 0:\n",
    "            print ('Epoch [{}/{}], Step [{}/{}], Loss: {:.4f}'.format(epoch+1, num_epochs, i+1, total_step, loss.item()))"
   ]
  },
  {
   "cell_type": "markdown",
   "id": "4d3b6243-e409-4ac3-9e70-7e777d98eeb8",
   "metadata": {},
   "source": [
    "### Test the model"
   ]
  },
  {
   "cell_type": "code",
   "execution_count": 9,
   "id": "b20a1106-5b0e-44d2-86cd-fa6087bb8283",
   "metadata": {},
   "outputs": [
    {
     "name": "stdout",
     "output_type": "stream",
     "text": [
      "Accuracy of the network on the 10000 test images: 98.0 %\n"
     ]
    }
   ],
   "source": [
    "with torch.no_grad():\n",
    "    correct = 0\n",
    "    total = 0\n",
    "    for images, labels in test_loader:\n",
    "        images = images.reshape(-1, 28*28).to(device)\n",
    "        labels = labels.to(device)\n",
    "        outputs = model(images)\n",
    "        _, predicted = torch.max(outputs.data, 1)\n",
    "        total += labels.size(0)\n",
    "        correct += (predicted == labels).sum().item()\n",
    "\n",
    "    print('Accuracy of the network on the 10000 test images: {} %'.format(100 * correct / total))"
   ]
  },
  {
   "cell_type": "code",
   "execution_count": null,
   "id": "5502c3c9-6ddf-4bf1-b74e-419033163899",
   "metadata": {},
   "outputs": [],
   "source": []
  }
 ],
 "metadata": {
  "kernelspec": {
   "display_name": "Python 3 (ipykernel)",
   "language": "python",
   "name": "python3"
  },
  "language_info": {
   "codemirror_mode": {
    "name": "ipython",
    "version": 3
   },
   "file_extension": ".py",
   "mimetype": "text/x-python",
   "name": "python",
   "nbconvert_exporter": "python",
   "pygments_lexer": "ipython3",
   "version": "3.10.18"
  }
 },
 "nbformat": 4,
 "nbformat_minor": 5
}
