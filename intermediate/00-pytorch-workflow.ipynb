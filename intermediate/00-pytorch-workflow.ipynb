{
 "cells": [
  {
   "cell_type": "code",
   "execution_count": 1,
   "id": "147db2d5-9c24-431b-84d8-fdcea0dcc59f",
   "metadata": {
    "scrolled": true
   },
   "outputs": [
    {
     "data": {
      "text/plain": [
       "'2.8.0+cu126'"
      ]
     },
     "execution_count": 1,
     "metadata": {},
     "output_type": "execute_result"
    }
   ],
   "source": [
    "import torch\n",
    "from torch import nn # nn contains all of PyTorch's building blocks for neural networks\n",
    "import matplotlib.pyplot as plt\n",
    "\n",
    "# Check PyTorch version\n",
    "torch.__version__"
   ]
  },
  {
   "cell_type": "markdown",
   "id": "7b9625b9-5646-49f6-afe2-d43e1773bca8",
   "metadata": {},
   "source": [
    "# Data preparing"
   ]
  },
  {
   "cell_type": "code",
   "execution_count": 2,
   "id": "002439ef-f2d5-4718-84aa-4371952f7cc9",
   "metadata": {},
   "outputs": [
    {
     "data": {
      "text/plain": [
       "(tensor([[0.0000],\n",
       "         [0.0150],\n",
       "         [0.0300],\n",
       "         [0.0450],\n",
       "         [0.0600],\n",
       "         [0.0750],\n",
       "         [0.0900],\n",
       "         [0.1050],\n",
       "         [0.1200],\n",
       "         [0.1350]]),\n",
       " tensor([[0.2777],\n",
       "         [0.2767],\n",
       "         [0.3477],\n",
       "         [0.3695],\n",
       "         [0.3336],\n",
       "         [0.3205],\n",
       "         [0.2819],\n",
       "         [0.3181],\n",
       "         [0.4225],\n",
       "         [0.4371]]))"
      ]
     },
     "execution_count": 2,
     "metadata": {},
     "output_type": "execute_result"
    }
   ],
   "source": [
    "# Create *known* parameters\n",
    "weight = 0.7\n",
    "bias = 0.3\n",
    "\n",
    "# Create data\n",
    "start = 0\n",
    "end = 1\n",
    "step = 0.015\n",
    "X = torch.arange(start, end, step).unsqueeze(dim=1)\n",
    "y = weight * X + bias + torch.normal(mean=0.0, std=0.05, size=(len(X),)).unsqueeze(dim=1)\n",
    "\n",
    "X[:10], y[:10]"
   ]
  },
  {
   "cell_type": "code",
   "execution_count": 3,
   "id": "95f5018e-106f-4519-847b-372cb0145e61",
   "metadata": {},
   "outputs": [
    {
     "data": {
      "text/plain": [
       "(torch.Size([67, 1]), torch.Size([67, 1]))"
      ]
     },
     "execution_count": 3,
     "metadata": {},
     "output_type": "execute_result"
    }
   ],
   "source": [
    "X.shape, y.shape"
   ]
  },
  {
   "cell_type": "code",
   "execution_count": 4,
   "id": "9157aa11-8bc8-4e6e-85db-e3ca9706cb9e",
   "metadata": {},
   "outputs": [
    {
     "data": {
      "text/plain": [
       "(53, 53, 14, 14)"
      ]
     },
     "execution_count": 4,
     "metadata": {},
     "output_type": "execute_result"
    }
   ],
   "source": [
    "# Create train/test split\n",
    "train_split = int(0.8 * len(X)) # 80% of data used for training set, 20% for testing \n",
    "X_train, y_train = X[:train_split], y[:train_split]\n",
    "X_test, y_test = X[train_split:], y[train_split:]\n",
    "\n",
    "len(X_train), len(y_train), len(X_test), len(y_test)"
   ]
  },
  {
   "cell_type": "code",
   "execution_count": 5,
   "id": "beb7da24-1c1e-42dc-8db4-92626eb4754c",
   "metadata": {},
   "outputs": [
    {
     "data": {
      "text/plain": [
       "53"
      ]
     },
     "execution_count": 5,
     "metadata": {},
     "output_type": "execute_result"
    }
   ],
   "source": [
    "train_split"
   ]
  },
  {
   "cell_type": "code",
   "execution_count": 6,
   "id": "e1973f9c-f20f-43ec-af78-1e38911bdc02",
   "metadata": {},
   "outputs": [],
   "source": [
    "def plot_predictions(train_data=X_train, \n",
    "                     train_labels=y_train, \n",
    "                     test_data=X_test, \n",
    "                     test_labels=y_test, \n",
    "                     predictions=None):\n",
    "  \"\"\"\n",
    "  Plots training data, test data and compares predictions.\n",
    "  \"\"\"\n",
    "  plt.figure(figsize=(10, 7))\n",
    "\n",
    "  # Plot training data in blue\n",
    "  plt.scatter(train_data, train_labels, c=\"b\", s=4, label=\"Training data\")\n",
    "  \n",
    "  # Plot test data in green\n",
    "  plt.scatter(test_data, test_labels, c=\"r\", s=4, label=\"Testing data\")\n",
    "\n",
    "  if predictions is not None:\n",
    "    # Plot the predictions in red (predictions were made on the test data)\n",
    "    plt.scatter(test_data, predictions, c=\"orange\", s=4, label=\"Predictions\")\n",
    "\n",
    "  # Show the legend\n",
    "  plt.legend(prop={\"size\": 14});"
   ]
  },
  {
   "cell_type": "code",
   "execution_count": 7,
   "id": "e89b40b3-0e0f-402b-ab82-dacdc56d90ab",
   "metadata": {},
   "outputs": [
    {
     "data": {
      "image/png": "[encoded data removed]",
      "text/plain": [
       "<Figure size 1000x700 with 1 Axes>"
      ]
     },
     "metadata": {},
     "output_type": "display_data"
    }
   ],
   "source": [
    "plot_predictions()"
   ]
  },
  {
   "cell_type": "markdown",
   "id": "0982154c-5574-4b11-a911-c9b23ffcde1e",
   "metadata": {
    "jp-MarkdownHeadingCollapsed": true
   },
   "source": [
    "# Build model"
   ]
  },
  {
   "cell_type": "code",
   "execution_count": 8,
   "id": "b6ca0ecd-b82c-4a20-a55e-785cb649175a",
   "metadata": {},
   "outputs": [],
   "source": [
    "# Create a Linear Regression model class\n",
    "class LinearRegressionModel(nn.Module): # <- almost everything in PyTorch is a nn.Module (think of this as neural network lego blocks)\n",
    "    def __init__(self):\n",
    "        super().__init__()\n",
    "        self.weights = nn.Parameter(torch.randn(1, dtype=torch.float), requires_grad=True)\n",
    "        self.bias = nn.Parameter(torch.randn(1, dtype=torch.float), requires_grad=True)\n",
    "\n",
    "    # Forward defines the computation in the model\n",
    "    def forward(self, x: torch.Tensor) -> torch.Tensor: # <- \"x\" is the input data (e.g. training/testing features)\n",
    "        return (self.weights * x) + self.bias # <- this is the linear regression formula (y = m*x + b)"
   ]
  },
  {
   "cell_type": "code",
   "execution_count": 9,
   "id": "db6e6a3a-9845-415b-a4ae-2fc1fb7aca04",
   "metadata": {},
   "outputs": [
    {
     "data": {
      "text/plain": [
       "[Parameter containing:\n",
       " tensor([0.3367], requires_grad=True),\n",
       " Parameter containing:\n",
       " tensor([0.1288], requires_grad=True)]"
      ]
     },
     "execution_count": 9,
     "metadata": {},
     "output_type": "execute_result"
    }
   ],
   "source": [
    "# Set manual seed since nn.Parameter are randomly initialized\n",
    "torch.manual_seed(42)\n",
    "\n",
    "# Create an instance of the model (this is a subclass of nn.Module that contains nn.Parameter(s))\n",
    "model_0 = LinearRegressionModel()\n",
    "\n",
    "# Check the nn.Parameter(s) within the nn.Module subclass we created\n",
    "list(model_0.parameters())"
   ]
  },
  {
   "cell_type": "code",
   "execution_count": 10,
   "id": "c5cbd7d2-1d07-432b-9d4d-cec14e354d55",
   "metadata": {},
   "outputs": [
    {
     "data": {
      "text/plain": [
       "OrderedDict([('weights', tensor([0.3367])), ('bias', tensor([0.1288]))])"
      ]
     },
     "execution_count": 10,
     "metadata": {},
     "output_type": "execute_result"
    }
   ],
   "source": [
    "# List named parameters \n",
    "model_0.state_dict()"
   ]
  },
  {
   "cell_type": "code",
   "execution_count": 11,
   "id": "5551ceb5-9056-46d6-be2f-03041a63fbb8",
   "metadata": {},
   "outputs": [
    {
     "name": "stdout",
     "output_type": "stream",
     "text": [
      "tensor([[0.3965],\n",
      "        [0.4015],\n",
      "        [0.4066],\n",
      "        [0.4116],\n",
      "        [0.4167],\n",
      "        [0.4217],\n",
      "        [0.4268],\n",
      "        [0.4318],\n",
      "        [0.4369],\n",
      "        [0.4419],\n",
      "        [0.4470],\n",
      "        [0.4520],\n",
      "        [0.4571],\n",
      "        [0.4621]])\n"
     ]
    }
   ],
   "source": [
    "# Make predictions with model\n",
    "with torch.inference_mode(): \n",
    "    y_preds = model_0(X_test)\n",
    "    print(y_preds)"
   ]
  },
  {
   "cell_type": "code",
   "execution_count": 12,
   "id": "6e621f4d-f53d-4c18-9d5a-07b5be9aef4a",
   "metadata": {},
   "outputs": [
    {
     "name": "stdout",
     "output_type": "stream",
     "text": [
      "Number of testing samples: 14\n",
      "Number of predictions made: 14\n",
      "Predicted values:\n",
      "tensor([[0.3965],\n",
      "        [0.4015],\n",
      "        [0.4066],\n",
      "        [0.4116],\n",
      "        [0.4167],\n",
      "        [0.4217],\n",
      "        [0.4268],\n",
      "        [0.4318],\n",
      "        [0.4369],\n",
      "        [0.4419],\n",
      "        [0.4470],\n",
      "        [0.4520],\n",
      "        [0.4571],\n",
      "        [0.4621]])\n"
     ]
    }
   ],
   "source": [
    "# Check the predictions\n",
    "print(f\"Number of testing samples: {len(X_test)}\") \n",
    "print(f\"Number of predictions made: {len(y_preds)}\")\n",
    "print(f\"Predicted values:\\n{y_preds}\")"
   ]
  },
  {
   "cell_type": "code",
   "execution_count": 13,
   "id": "b3d01956-18ff-4b14-8a7c-c7d06ba9ff81",
   "metadata": {},
   "outputs": [
    {
     "data": {
      "image/png": "[encoded data removed]",
      "text/plain": [
       "<Figure size 1000x700 with 1 Axes>"
      ]
     },
     "metadata": {},
     "output_type": "display_data"
    }
   ],
   "source": [
    "plot_predictions(predictions=y_preds)"
   ]
  },
  {
   "cell_type": "code",
   "execution_count": 14,
   "id": "9fc7c8c2-43d8-49ca-bae8-130baa3753ca",
   "metadata": {},
   "outputs": [
    {
     "data": {
      "text/plain": [
       "tensor([[0.4336],\n",
       "        [0.4905],\n",
       "        [0.4646],\n",
       "        [0.4884],\n",
       "        [0.4782],\n",
       "        [0.4072],\n",
       "        [0.4327],\n",
       "        [0.5357],\n",
       "        [0.4408],\n",
       "        [0.5059],\n",
       "        [0.4619],\n",
       "        [0.4797],\n",
       "        [0.4800],\n",
       "        [0.5706]])"
      ]
     },
     "execution_count": 14,
     "metadata": {},
     "output_type": "execute_result"
    }
   ],
   "source": [
    "y_test - y_preds"
   ]
  },
  {
   "cell_type": "markdown",
   "id": "d2d665e8-ab9d-4f26-a07c-91fdde28f90e",
   "metadata": {
    "jp-MarkdownHeadingCollapsed": true
   },
   "source": [
    "# Train the model"
   ]
  },
  {
   "cell_type": "code",
   "execution_count": 15,
   "id": "e85e5d21-38a1-4c7f-9065-e4fdb85d8671",
   "metadata": {},
   "outputs": [],
   "source": [
    "# Create the loss function\n",
    "loss_fn = nn.L1Loss() # MAE loss is same as L1Loss\n",
    "\n",
    "# Create the optimizer\n",
    "optimizer = torch.optim.SGD(params=model_0.parameters(), lr=0.01)"
   ]
  },
  {
   "cell_type": "code",
   "execution_count": 16,
   "id": "642d1807-b284-41b1-a680-50f3b3c8b926",
   "metadata": {},
   "outputs": [
    {
     "name": "stdout",
     "output_type": "stream",
     "text": [
      "Epoch: 0 | MAE Train Loss: 0.30085933208465576 | MAE Test Loss: 0.4629240930080414 \n",
      "Epoch: 10 | MAE Train Loss: 0.1856493502855301 | MAE Test Loss: 0.32811662554740906 \n",
      "Epoch: 20 | MAE Train Loss: 0.09769856929779053 | MAE Test Loss: 0.21254336833953857 \n",
      "Epoch: 30 | MAE Train Loss: 0.060075342655181885 | MAE Test Loss: 0.13578014075756073 \n",
      "Epoch: 40 | MAE Train Loss: 0.05336163565516472 | MAE Test Loss: 0.10726593434810638 \n",
      "Epoch: 50 | MAE Train Loss: 0.05177018791437149 | MAE Test Loss: 0.09938429296016693 \n",
      "Epoch: 60 | MAE Train Loss: 0.05080511420965195 | MAE Test Loss: 0.09741286188364029 \n",
      "Epoch: 70 | MAE Train Loss: 0.04986654967069626 | MAE Test Loss: 0.09544145315885544 \n",
      "Epoch: 80 | MAE Train Loss: 0.04918086901307106 | MAE Test Loss: 0.09287484735250473 \n",
      "Epoch: 90 | MAE Train Loss: 0.04862191528081894 | MAE Test Loss: 0.08944903314113617 \n",
      "Epoch: 100 | MAE Train Loss: 0.04811721295118332 | MAE Test Loss: 0.08522290736436844 \n",
      "Epoch: 110 | MAE Train Loss: 0.047612514346838 | MAE Test Loss: 0.0809968113899231 \n",
      "Epoch: 120 | MAE Train Loss: 0.04714183136820793 | MAE Test Loss: 0.07655508071184158 \n",
      "Epoch: 130 | MAE Train Loss: 0.04671218991279602 | MAE Test Loss: 0.07236601412296295 \n",
      "Epoch: 140 | MAE Train Loss: 0.046281833201646805 | MAE Test Loss: 0.06864530593156815 \n",
      "Epoch: 150 | MAE Train Loss: 0.04585147276520729 | MAE Test Loss: 0.06492457538843155 \n",
      "Epoch: 160 | MAE Train Loss: 0.04542630910873413 | MAE Test Loss: 0.06174484267830849 \n",
      "Epoch: 170 | MAE Train Loss: 0.04510950297117233 | MAE Test Loss: 0.058920685201883316 \n",
      "Epoch: 180 | MAE Train Loss: 0.0448128916323185 | MAE Test Loss: 0.05618348717689514 \n",
      "Epoch: 190 | MAE Train Loss: 0.04457830637693405 | MAE Test Loss: 0.05444369092583656 \n",
      "Epoch: 200 | MAE Train Loss: 0.04439455270767212 | MAE Test Loss: 0.05310388281941414 \n",
      "Epoch: 210 | MAE Train Loss: 0.04422251135110855 | MAE Test Loss: 0.05109105259180069 \n",
      "Epoch: 220 | MAE Train Loss: 0.044065821915864944 | MAE Test Loss: 0.048405248671770096 \n",
      "Epoch: 230 | MAE Train Loss: 0.04398312047123909 | MAE Test Loss: 0.04742739722132683 \n",
      "Epoch: 240 | MAE Train Loss: 0.04391665756702423 | MAE Test Loss: 0.046597402542829514 \n",
      "Epoch: 250 | MAE Train Loss: 0.04385172575712204 | MAE Test Loss: 0.04586746171116829 \n",
      "Epoch: 260 | MAE Train Loss: 0.043797947466373444 | MAE Test Loss: 0.04455171898007393 \n",
      "Epoch: 270 | MAE Train Loss: 0.043746598064899445 | MAE Test Loss: 0.04387790709733963 \n",
      "Epoch: 280 | MAE Train Loss: 0.04370735585689545 | MAE Test Loss: 0.04309266805648804 \n",
      "Epoch: 290 | MAE Train Loss: 0.043689753860235214 | MAE Test Loss: 0.04292508587241173 \n",
      "Epoch: 300 | MAE Train Loss: 0.04367024824023247 | MAE Test Loss: 0.04275749251246452 \n",
      "Epoch: 310 | MAE Train Loss: 0.04365003481507301 | MAE Test Loss: 0.04258989170193672 \n",
      "Epoch: 320 | MAE Train Loss: 0.04362982138991356 | MAE Test Loss: 0.04242231324315071 \n",
      "Epoch: 330 | MAE Train Loss: 0.043609619140625 | MAE Test Loss: 0.04225471615791321 \n",
      "Epoch: 340 | MAE Train Loss: 0.043589405715465546 | MAE Test Loss: 0.0420871265232563 \n",
      "Epoch: 350 | MAE Train Loss: 0.04357105866074562 | MAE Test Loss: 0.0415911003947258 \n",
      "Epoch: 360 | MAE Train Loss: 0.04355346038937569 | MAE Test Loss: 0.0414234958589077 \n",
      "Epoch: 370 | MAE Train Loss: 0.0435347780585289 | MAE Test Loss: 0.04125591740012169 \n",
      "Epoch: 380 | MAE Train Loss: 0.04351457208395004 | MAE Test Loss: 0.04108833149075508 \n",
      "Epoch: 390 | MAE Train Loss: 0.04349436238408089 | MAE Test Loss: 0.04092072322964668 \n",
      "Epoch: 400 | MAE Train Loss: 0.04347415268421173 | MAE Test Loss: 0.04075314477086067 \n",
      "Epoch: 410 | MAE Train Loss: 0.04346206784248352 | MAE Test Loss: 0.04047113656997681 \n",
      "Epoch: 420 | MAE Train Loss: 0.04345918074250221 | MAE Test Loss: 0.04018174856901169 \n",
      "Epoch: 430 | MAE Train Loss: 0.0434563010931015 | MAE Test Loss: 0.039892349392175674 \n",
      "Epoch: 440 | MAE Train Loss: 0.043453410267829895 | MAE Test Loss: 0.039602965116500854 \n",
      "Epoch: 450 | MAE Train Loss: 0.04345053434371948 | MAE Test Loss: 0.03931357339024544 \n",
      "Epoch: 460 | MAE Train Loss: 0.043447643518447876 | MAE Test Loss: 0.03902418166399002 \n",
      "Epoch: 470 | MAE Train Loss: 0.043444763869047165 | MAE Test Loss: 0.038734786212444305 \n",
      "Epoch: 480 | MAE Train Loss: 0.04344187304377556 | MAE Test Loss: 0.038445401936769485 \n",
      "Epoch: 490 | MAE Train Loss: 0.04343899339437485 | MAE Test Loss: 0.03815600648522377 \n",
      "Epoch: 500 | MAE Train Loss: 0.0434354729950428 | MAE Test Loss: 0.03786661848425865 \n",
      "Epoch: 510 | MAE Train Loss: 0.043431952595710754 | MAE Test Loss: 0.03757721930742264 \n",
      "Epoch: 520 | MAE Train Loss: 0.04342842474579811 | MAE Test Loss: 0.03735376521945 \n",
      "Epoch: 530 | MAE Train Loss: 0.04342489689588547 | MAE Test Loss: 0.03714081272482872 \n",
      "Epoch: 540 | MAE Train Loss: 0.04342137277126312 | MAE Test Loss: 0.03692787140607834 \n",
      "Epoch: 550 | MAE Train Loss: 0.04341784864664078 | MAE Test Loss: 0.036714911460876465 \n",
      "Epoch: 560 | MAE Train Loss: 0.04341432452201843 | MAE Test Loss: 0.03650197386741638 \n",
      "Epoch: 570 | MAE Train Loss: 0.04341079667210579 | MAE Test Loss: 0.036289017647504807 \n",
      "Epoch: 580 | MAE Train Loss: 0.043407268822193146 | MAE Test Loss: 0.036076076328754425 \n",
      "Epoch: 590 | MAE Train Loss: 0.0434037484228611 | MAE Test Loss: 0.03586312010884285 \n",
      "Epoch: 600 | MAE Train Loss: 0.043400220572948456 | MAE Test Loss: 0.03565018251538277 \n",
      "Epoch: 610 | MAE Train Loss: 0.043397314846515656 | MAE Test Loss: 0.035603221505880356 \n",
      "Epoch: 620 | MAE Train Loss: 0.04339442774653435 | MAE Test Loss: 0.03539026156067848 \n",
      "Epoch: 630 | MAE Train Loss: 0.043391548097133636 | MAE Test Loss: 0.0351773202419281 \n",
      "Epoch: 640 | MAE Train Loss: 0.04338865727186203 | MAE Test Loss: 0.034964364022016525 \n",
      "Epoch: 650 | MAE Train Loss: 0.04338577389717102 | MAE Test Loss: 0.03475142642855644 \n",
      "Epoch: 660 | MAE Train Loss: 0.04338288679718971 | MAE Test Loss: 0.03453847020864487 \n",
      "Epoch: 670 | MAE Train Loss: 0.043380007147789 | MAE Test Loss: 0.034325528889894485 \n",
      "Epoch: 680 | MAE Train Loss: 0.043377120047807693 | MAE Test Loss: 0.03411257266998291 \n",
      "Epoch: 690 | MAE Train Loss: 0.043374236673116684 | MAE Test Loss: 0.03389963507652283 \n",
      "Epoch: 700 | MAE Train Loss: 0.043371349573135376 | MAE Test Loss: 0.03371189907193184 \n",
      "Epoch: 710 | MAE Train Loss: 0.043368469923734665 | MAE Test Loss: 0.033577822148799896 \n",
      "Epoch: 720 | MAE Train Loss: 0.043365105986595154 | MAE Test Loss: 0.033443741500377655 \n",
      "Epoch: 730 | MAE Train Loss: 0.04336157813668251 | MAE Test Loss: 0.03330966830253601 \n",
      "Epoch: 740 | MAE Train Loss: 0.04335805028676987 | MAE Test Loss: 0.03317558392882347 \n",
      "Epoch: 750 | MAE Train Loss: 0.043354518711566925 | MAE Test Loss: 0.03304150700569153 \n",
      "Epoch: 760 | MAE Train Loss: 0.04335100203752518 | MAE Test Loss: 0.03290742635726929 \n",
      "Epoch: 770 | MAE Train Loss: 0.043347474187612534 | MAE Test Loss: 0.03277335315942764 \n",
      "Epoch: 780 | MAE Train Loss: 0.04334395006299019 | MAE Test Loss: 0.03271254897117615 \n",
      "Epoch: 790 | MAE Train Loss: 0.043340422213077545 | MAE Test Loss: 0.03265612944960594 \n",
      "Epoch: 800 | MAE Train Loss: 0.0433368980884552 | MAE Test Loss: 0.03259970620274544 \n",
      "Epoch: 810 | MAE Train Loss: 0.043333373963832855 | MAE Test Loss: 0.032543282955884933 \n",
      "Epoch: 820 | MAE Train Loss: 0.043331436812877655 | MAE Test Loss: 0.03252842649817467 \n",
      "Epoch: 830 | MAE Train Loss: 0.04333985969424248 | MAE Test Loss: 0.032587017863988876 \n",
      "Epoch: 840 | MAE Train Loss: 0.043339505791664124 | MAE Test Loss: 0.03258137032389641 \n",
      "Epoch: 850 | MAE Train Loss: 0.043331969529390335 | MAE Test Loss: 0.032527245581150055 \n",
      "Epoch: 860 | MAE Train Loss: 0.043331604450941086 | MAE Test Loss: 0.03252803534269333 \n",
      "Epoch: 870 | MAE Train Loss: 0.04334003105759621 | MAE Test Loss: 0.032589782029390335 \n",
      "Epoch: 880 | MAE Train Loss: 0.04333967715501785 | MAE Test Loss: 0.03258412703871727 \n",
      "Epoch: 890 | MAE Train Loss: 0.04333212971687317 | MAE Test Loss: 0.032526854425668716 \n",
      "Epoch: 900 | MAE Train Loss: 0.043331779539585114 | MAE Test Loss: 0.03252764418721199 \n",
      "Epoch: 910 | MAE Train Loss: 0.04333142563700676 | MAE Test Loss: 0.03252843767404556 \n",
      "Epoch: 920 | MAE Train Loss: 0.04333985224366188 | MAE Test Loss: 0.032586898654699326 \n",
      "Epoch: 930 | MAE Train Loss: 0.043339505791664124 | MAE Test Loss: 0.03258123993873596 \n",
      "Epoch: 940 | MAE Train Loss: 0.043331947177648544 | MAE Test Loss: 0.03252726420760155 \n",
      "Epoch: 950 | MAE Train Loss: 0.04333159700036049 | MAE Test Loss: 0.03252805024385452 \n",
      "Epoch: 960 | MAE Train Loss: 0.04334001988172531 | MAE Test Loss: 0.03258967399597168 \n",
      "Epoch: 970 | MAE Train Loss: 0.04333967715501785 | MAE Test Loss: 0.03258401155471802 \n",
      "Epoch: 980 | MAE Train Loss: 0.04333212599158287 | MAE Test Loss: 0.03252687305212021 \n",
      "Epoch: 990 | MAE Train Loss: 0.043331775814294815 | MAE Test Loss: 0.03252766281366348 \n"
     ]
    },
    {
     "data": {
      "image/png": "[encoded data removed]",
      "text/plain": [
       "<Figure size 1000x700 with 1 Axes>"
      ]
     },
     "metadata": {},
     "output_type": "display_data"
    }
   ],
   "source": [
    "torch.manual_seed(42)\n",
    "\n",
    "# Set the number of epochs (how many times the model will pass over the training data)\n",
    "epochs = 1000\n",
    "\n",
    "# Create empty loss lists to track values\n",
    "train_loss_values = []\n",
    "test_loss_values = []\n",
    "epoch_count = []\n",
    "\n",
    "for epoch in range(epochs):\n",
    "    # Put model in training mode (this is the default state of a model)\n",
    "    model_0.train()\n",
    "\n",
    "    # 1. Forward pass on train data using the forward() method inside \n",
    "    y_pred = model_0(X_train)\n",
    "    # print(y_pred)\n",
    "\n",
    "    # 2. Calculate the loss (how different are our models predictions to the ground truth)\n",
    "    loss = loss_fn(y_pred, y_train)\n",
    "\n",
    "    # 3. Zero grad of the optimizer\n",
    "    optimizer.zero_grad()\n",
    "\n",
    "    # 4. Loss backwards\n",
    "    loss.backward()\n",
    "\n",
    "    # 5. Progress the optimizer\n",
    "    optimizer.step()\n",
    "\n",
    "    ### Testing\n",
    "\n",
    "    # Put the model in evaluation mode\n",
    "    model_0.eval()\n",
    "\n",
    "    with torch.inference_mode():\n",
    "      # 1. Forward pass on test data\n",
    "      test_pred = model_0(X_test)\n",
    "\n",
    "      # 2. Caculate loss on test data\n",
    "      test_loss = loss_fn(test_pred, y_test.type(torch.float)) # predictions come in torch.float datatype, so comparisons need to be done with tensors of the same type\n",
    "\n",
    "      # Print out what's happening\n",
    "      if epoch % 10 == 0:\n",
    "            epoch_count.append(epoch)\n",
    "            train_loss_values.append(loss.detach().numpy())\n",
    "            test_loss_values.append(test_loss.detach().numpy())\n",
    "            print(f\"Epoch: {epoch} | MAE Train Loss: {loss} | MAE Test Loss: {test_loss} \")\n",
    "\n",
    "plot_predictions(predictions=test_pred)"
   ]
  },
  {
   "cell_type": "code",
   "execution_count": 17,
   "id": "f05af875-23f5-4cfc-b993-890adf87228d",
   "metadata": {},
   "outputs": [
    {
     "name": "stdout",
     "output_type": "stream",
     "text": [
      "The model learned the following values for weights and bias:\n",
      "OrderedDict([('weights', tensor([0.6303])), ('bias', tensor([0.3288]))])\n",
      "\n",
      "And the original values for weights and bias are:\n",
      "weights: 0.7, bias: 0.3\n"
     ]
    }
   ],
   "source": [
    "# Find our model's learned parameters\n",
    "print(\"The model learned the following values for weights and bias:\")\n",
    "print(model_0.state_dict())\n",
    "print(\"\\nAnd the original values for weights and bias are:\")\n",
    "print(f\"weights: {weight}, bias: {bias}\")"
   ]
  },
  {
   "cell_type": "code",
   "execution_count": 18,
   "id": "7f5e1c17-dc61-44a1-8882-110b53f39d5b",
   "metadata": {},
   "outputs": [
    {
     "data": {
      "text/plain": [
       "<matplotlib.legend.Legend at 0x1e735b9fa00>"
      ]
     },
     "execution_count": 18,
     "metadata": {},
     "output_type": "execute_result"
    },
    {
     "data": {
      "image/png": "[encoded data removed]",
      "text/plain": [
       "<Figure size 640x480 with 1 Axes>"
      ]
     },
     "metadata": {},
     "output_type": "display_data"
    }
   ],
   "source": [
    "# Plot the loss curves\n",
    "plt.plot(epoch_count, train_loss_values, label=\"Train loss\")\n",
    "plt.plot(epoch_count, test_loss_values, label=\"Test loss\")\n",
    "plt.title(\"Training and test loss curves\")\n",
    "plt.ylabel(\"Loss\")\n",
    "plt.xlabel(\"Epochs\")\n",
    "plt.legend()"
   ]
  },
  {
   "cell_type": "markdown",
   "id": "9dfe6689-3339-4b33-ad68-bbe9dade3774",
   "metadata": {
    "jp-MarkdownHeadingCollapsed": true
   },
   "source": [
    "# Saving and loading the model"
   ]
  },
  {
   "cell_type": "code",
   "execution_count": 19,
   "id": "93ae323b-512f-413e-a456-3e329ff2c821",
   "metadata": {},
   "outputs": [
    {
     "name": "stdout",
     "output_type": "stream",
     "text": [
      "Saving model to: models\\pytorch_workflow_model_0.pth\n"
     ]
    }
   ],
   "source": [
    "from pathlib import Path\n",
    "\n",
    "# 1. Create models directory \n",
    "MODEL_PATH = Path(\"models\")\n",
    "MODEL_PATH.mkdir(parents=True, exist_ok=True)\n",
    "\n",
    "# 2. Create model save path \n",
    "MODEL_NAME = \"pytorch_workflow_model_0.pth\"\n",
    "MODEL_SAVE_PATH = MODEL_PATH / MODEL_NAME\n",
    "\n",
    "# 3. Save the model state dict \n",
    "print(f\"Saving model to: {MODEL_SAVE_PATH}\")\n",
    "torch.save(obj=model_0.state_dict(), f=MODEL_SAVE_PATH) "
   ]
  },
  {
   "cell_type": "code",
   "execution_count": 20,
   "id": "198e52e0-1283-44b5-b467-41d194412680",
   "metadata": {},
   "outputs": [
    {
     "data": {
      "text/plain": [
       "<All keys matched successfully>"
      ]
     },
     "execution_count": 20,
     "metadata": {},
     "output_type": "execute_result"
    }
   ],
   "source": [
    "# Instantiate a new instance of our model (this will be instantiated with random weights)\n",
    "loaded_model_0 = LinearRegressionModel()\n",
    "\n",
    "# Load the state_dict of our saved model (this will update the new instance of our model with trained weights)\n",
    "loaded_model_0.load_state_dict(torch.load(f=MODEL_SAVE_PATH))"
   ]
  },
  {
   "cell_type": "code",
   "execution_count": 21,
   "id": "68109edc-aac3-401f-8ab7-e8c4e3a39bbf",
   "metadata": {},
   "outputs": [
    {
     "data": {
      "text/plain": [
       "OrderedDict([('weights', tensor([0.6303])), ('bias', tensor([0.3288]))])"
      ]
     },
     "execution_count": 21,
     "metadata": {},
     "output_type": "execute_result"
    }
   ],
   "source": [
    "loaded_model_0.state_dict()"
   ]
  },
  {
   "cell_type": "code",
   "execution_count": 22,
   "id": "ae54ae78-e2fc-4977-a0ab-144fa9db2598",
   "metadata": {},
   "outputs": [],
   "source": [
    "# 1. Put the loaded model into evaluation mode\n",
    "loaded_model_0.eval()\n",
    "\n",
    "# 2. Use the inference mode context manager to make predictions\n",
    "with torch.inference_mode():\n",
    "    test_pred = model_0(X_test)\n",
    "    loaded_model_preds = loaded_model_0(X_test) # perform a forward pass on the test data with the loaded model"
   ]
  },
  {
   "cell_type": "code",
   "execution_count": 29,
   "id": "163e65d7-94fc-46f8-bbc7-2ae15480354b",
   "metadata": {},
   "outputs": [
    {
     "data": {
      "text/plain": [
       "tensor([[True],\n",
       "        [True],\n",
       "        [True],\n",
       "        [True],\n",
       "        [True],\n",
       "        [True],\n",
       "        [True],\n",
       "        [True],\n",
       "        [True],\n",
       "        [True],\n",
       "        [True],\n",
       "        [True],\n",
       "        [True],\n",
       "        [True]])"
      ]
     },
     "execution_count": 29,
     "metadata": {},
     "output_type": "execute_result"
    }
   ],
   "source": [
    "# Compare previous model predictions with loaded model predictions (these should be the same)\n",
    "test_pred == loaded_model_preds"
   ]
  },
  {
   "cell_type": "markdown",
   "id": "926e61a3-1b8b-47fb-ba9b-f3a5ddd1eef2",
   "metadata": {},
   "source": [
    "# Using linear layer"
   ]
  },
  {
   "cell_type": "code",
   "execution_count": 2,
   "id": "7c79cc82-e2e6-4a99-a3d9-8049004687d8",
   "metadata": {},
   "outputs": [
    {
     "name": "stdout",
     "output_type": "stream",
     "text": [
      "Using device: cuda\n"
     ]
    }
   ],
   "source": [
    "# Setup device agnostic code\n",
    "device = \"cuda\" if torch.cuda.is_available() else \"cpu\"\n",
    "print(f\"Using device: {device}\")"
   ]
  },
  {
   "cell_type": "code",
   "execution_count": 3,
   "id": "199e0533-2e64-4bc4-8bc0-970b2b0c18e9",
   "metadata": {},
   "outputs": [
    {
     "data": {
      "text/plain": [
       "(tensor([[0.0000],\n",
       "         [0.0200],\n",
       "         [0.0400],\n",
       "         [0.0600],\n",
       "         [0.0800],\n",
       "         [0.1000],\n",
       "         [0.1200],\n",
       "         [0.1400],\n",
       "         [0.1600],\n",
       "         [0.1800]]),\n",
       " tensor([[0.2997],\n",
       "         [0.3177],\n",
       "         [0.3116],\n",
       "         [0.2916],\n",
       "         [0.3582],\n",
       "         [0.3790],\n",
       "         [0.3596],\n",
       "         [0.3987],\n",
       "         [0.5274],\n",
       "         [0.4340]]))"
      ]
     },
     "execution_count": 3,
     "metadata": {},
     "output_type": "execute_result"
    }
   ],
   "source": [
    "# Create *known* parameters\n",
    "weight = 0.7\n",
    "bias = 0.3\n",
    "\n",
    "# Create data\n",
    "start = 0\n",
    "end = 1\n",
    "step = 0.02\n",
    "X = torch.arange(start, end, step).unsqueeze(dim=1)\n",
    "y = weight * X + bias + torch.normal(mean=0.0, std=0.05, size=(len(X),)).unsqueeze(dim=1)\n",
    "\n",
    "X[:10], y[:10]"
   ]
  },
  {
   "cell_type": "code",
   "execution_count": 4,
   "id": "9da3de21-4241-4e37-88ec-b6b7a8ad9c79",
   "metadata": {},
   "outputs": [
    {
     "data": {
      "text/plain": [
       "(40, 40, 10, 10)"
      ]
     },
     "execution_count": 4,
     "metadata": {},
     "output_type": "execute_result"
    }
   ],
   "source": [
    "# Split data\n",
    "train_split = int(0.8 * len(X))\n",
    "X_train, y_train = X[:train_split], y[:train_split]\n",
    "X_test, y_test = X[train_split:], y[train_split:]\n",
    "\n",
    "len(X_train), len(y_train), len(X_test), len(y_test)"
   ]
  },
  {
   "cell_type": "code",
   "execution_count": 7,
   "id": "e31eefb5-a858-4380-9a92-4e4b8f4edb58",
   "metadata": {},
   "outputs": [
    {
     "data": {
      "image/png": "[encoded data removed]",
      "text/plain": [
       "<Figure size 1000x700 with 1 Axes>"
      ]
     },
     "metadata": {},
     "output_type": "display_data"
    }
   ],
   "source": [
    "# Note: If you've reset your runtime, this function won't work, \n",
    "# you'll have to rerun the cell above where it's instantiated.\n",
    "plot_predictions(X_train, y_train, X_test, y_test)"
   ]
  },
  {
   "cell_type": "code",
   "execution_count": 8,
   "id": "dbc08373-0063-4a48-9804-68c3aa92256e",
   "metadata": {},
   "outputs": [
    {
     "data": {
      "text/plain": [
       "(LinearRegressionModelV2(\n",
       "   (linear_layer): Linear(in_features=1, out_features=1, bias=True)\n",
       " ),\n",
       " OrderedDict([('linear_layer.weight', tensor([[0.7645]])),\n",
       "              ('linear_layer.bias', tensor([0.8300]))]))"
      ]
     },
     "execution_count": 8,
     "metadata": {},
     "output_type": "execute_result"
    }
   ],
   "source": [
    "# Subclass nn.Module to make our model\n",
    "class LinearRegressionModelV2(nn.Module):\n",
    "    def __init__(self):\n",
    "        super().__init__()\n",
    "        # Use nn.Linear() for creating the model parameters\n",
    "        self.linear_layer = nn.Linear(in_features=1, out_features=1)\n",
    "    \n",
    "    # Define the forward computation (input data x flows through nn.Linear())\n",
    "    def forward(self, x: torch.Tensor) -> torch.Tensor:\n",
    "        return self.linear_layer(x)\n",
    "\n",
    "# Set the manual seed when creating the model (this isn't always needed but is used for demonstrative purposes, try commenting it out and seeing what happens)\n",
    "torch.manual_seed(42)\n",
    "model_1 = LinearRegressionModelV2()\n",
    "model_1, model_1.state_dict()"
   ]
  },
  {
   "cell_type": "code",
   "execution_count": 9,
   "id": "1cbaf528-62eb-4901-b293-df84b1689953",
   "metadata": {},
   "outputs": [
    {
     "data": {
      "text/plain": [
       "device(type='cpu')"
      ]
     },
     "execution_count": 9,
     "metadata": {},
     "output_type": "execute_result"
    }
   ],
   "source": [
    "# Check model device\n",
    "next(model_1.parameters()).device"
   ]
  },
  {
   "cell_type": "code",
   "execution_count": 10,
   "id": "b6014c60-7c4f-4adf-9939-4b48453a46e5",
   "metadata": {},
   "outputs": [
    {
     "data": {
      "text/plain": [
       "device(type='cuda', index=0)"
      ]
     },
     "execution_count": 10,
     "metadata": {},
     "output_type": "execute_result"
    }
   ],
   "source": [
    "# Set model to GPU if it's available, otherwise it'll default to CPU\n",
    "model_1.to(device) # the device variable was set above to be \"cuda\" if available or \"cpu\" if not\n",
    "next(model_1.parameters()).device"
   ]
  },
  {
   "cell_type": "code",
   "execution_count": 11,
   "id": "ac86a310-0845-496b-a6f2-77d2b06e19cc",
   "metadata": {},
   "outputs": [],
   "source": [
    "# Create loss function\n",
    "loss_fn = nn.L1Loss()\n",
    "\n",
    "# Create optimizer\n",
    "optimizer = torch.optim.SGD(params=model_1.parameters(), lr=0.001)"
   ]
  },
  {
   "cell_type": "code",
   "execution_count": 12,
   "id": "869ac204-16f1-44ae-a16f-a7a0e56ab529",
   "metadata": {},
   "outputs": [
    {
     "name": "stdout",
     "output_type": "stream",
     "text": [
      "Epoch: 0 | Train loss: 0.5516211986541748 | Test loss: 0.5948025584220886\n",
      "Epoch: 100 | Train loss: 0.4364127218723297 | Test loss: 0.4600944519042969\n",
      "Epoch: 200 | Train loss: 0.321204274892807 | Test loss: 0.3253863751888275\n",
      "Epoch: 300 | Train loss: 0.2059958428144455 | Test loss: 0.19067826867103577\n",
      "Epoch: 400 | Train loss: 0.09218302369117737 | Test loss: 0.06024103984236717\n",
      "Epoch: 500 | Train loss: 0.04298323020339012 | Test loss: 0.0404895544052124\n",
      "Epoch: 600 | Train loss: 0.04085490107536316 | Test loss: 0.043545305728912354\n",
      "Epoch: 700 | Train loss: 0.0402960330247879 | Test loss: 0.0431261844933033\n",
      "Epoch: 800 | Train loss: 0.03973700478672981 | Test loss: 0.04270706698298454\n",
      "Epoch: 900 | Train loss: 0.039177946746349335 | Test loss: 0.04228794574737549\n"
     ]
    }
   ],
   "source": [
    "torch.manual_seed(42)\n",
    "\n",
    "# Set the number of epochs \n",
    "epochs = 1000 \n",
    "\n",
    "# Put data on the available device\n",
    "# Without this, error will happen (not all model/data on device)\n",
    "X_train = X_train.to(device)\n",
    "X_test = X_test.to(device)\n",
    "y_train = y_train.to(device)\n",
    "y_test = y_test.to(device)\n",
    "\n",
    "for epoch in range(epochs):\n",
    "    ### Training\n",
    "    model_1.train() # train mode is on by default after construction\n",
    "\n",
    "    # 1. Forward pass\n",
    "    y_pred = model_1(X_train)\n",
    "\n",
    "    # 2. Calculate loss\n",
    "    loss = loss_fn(y_pred, y_train)\n",
    "\n",
    "    # 3. Zero grad optimizer\n",
    "    optimizer.zero_grad()\n",
    "\n",
    "    # 4. Loss backward\n",
    "    loss.backward()\n",
    "\n",
    "    # 5. Step the optimizer\n",
    "    optimizer.step()\n",
    "\n",
    "    ### Testing\n",
    "    model_1.eval() # put the model in evaluation mode for testing (inference)\n",
    "    # 1. Forward pass\n",
    "    with torch.inference_mode():\n",
    "        test_pred = model_1(X_test)\n",
    "    \n",
    "        # 2. Calculate the loss\n",
    "        test_loss = loss_fn(test_pred, y_test)\n",
    "\n",
    "    if epoch % 100 == 0:\n",
    "        print(f\"Epoch: {epoch} | Train loss: {loss} | Test loss: {test_loss}\")"
   ]
  },
  {
   "cell_type": "code",
   "execution_count": 13,
   "id": "1e80ac60-65d5-4da7-b724-eff88ac1ca05",
   "metadata": {},
   "outputs": [
    {
     "name": "stdout",
     "output_type": "stream",
     "text": [
      "The model learned the following values for weights and bias:\n",
      "OrderedDict([('linear_layer.weight', tensor([[0.6166]], device='cuda:0')),\n",
      "             ('linear_layer.bias', tensor([0.3366], device='cuda:0'))])\n",
      "\n",
      "And the original values for weights and bias are:\n",
      "weights: 0.7, bias: 0.3\n"
     ]
    }
   ],
   "source": [
    "# Find our model's learned parameters\n",
    "from pprint import pprint # pprint = pretty print, see: https://docs.python.org/3/library/pprint.html \n",
    "print(\"The model learned the following values for weights and bias:\")\n",
    "pprint(model_1.state_dict())\n",
    "print(\"\\nAnd the original values for weights and bias are:\")\n",
    "print(f\"weights: {weight}, bias: {bias}\")"
   ]
  },
  {
   "cell_type": "code",
   "execution_count": 14,
   "id": "bbfe7eb2-e2c2-4326-af3b-b6e33ba87eca",
   "metadata": {},
   "outputs": [
    {
     "data": {
      "text/plain": [
       "tensor([[0.8299],\n",
       "        [0.8423],\n",
       "        [0.8546],\n",
       "        [0.8669],\n",
       "        [0.8793],\n",
       "        [0.8916],\n",
       "        [0.9039],\n",
       "        [0.9162],\n",
       "        [0.9286],\n",
       "        [0.9409]], device='cuda:0')"
      ]
     },
     "execution_count": 14,
     "metadata": {},
     "output_type": "execute_result"
    }
   ],
   "source": [
    "# Turn model into evaluation mode\n",
    "model_1.eval()\n",
    "\n",
    "# Make predictions on the test data\n",
    "with torch.inference_mode():\n",
    "    y_preds = model_1(X_test)\n",
    "y_preds"
   ]
  },
  {
   "cell_type": "code",
   "execution_count": 17,
   "id": "61f9e5ee-f91f-4b5a-ae8b-157902cee81b",
   "metadata": {},
   "outputs": [
    {
     "data": {
      "image/png": "[encoded data removed]",
      "text/plain": [
       "<Figure size 1000x700 with 1 Axes>"
      ]
     },
     "metadata": {},
     "output_type": "display_data"
    }
   ],
   "source": [
    "# plot_predictions(predictions=y_preds) # -> won't work... data not on CPU\n",
    "\n",
    "# Put data on the CPU and plot it\n",
    "plot_predictions(predictions=y_preds.cpu())"
   ]
  },
  {
   "cell_type": "code",
   "execution_count": 18,
   "id": "db0adc36-d72f-4452-a048-af3d73e772c6",
   "metadata": {},
   "outputs": [
    {
     "name": "stdout",
     "output_type": "stream",
     "text": [
      "Saving model to: models\\pytorch_workflow_model_1.pth\n"
     ]
    }
   ],
   "source": [
    "from pathlib import Path\n",
    "\n",
    "# 1. Create models directory \n",
    "MODEL_PATH = Path(\"models\")\n",
    "MODEL_PATH.mkdir(parents=True, exist_ok=True)\n",
    "\n",
    "# 2. Create model save path \n",
    "MODEL_NAME = \"pytorch_workflow_model_1.pth\"\n",
    "MODEL_SAVE_PATH = MODEL_PATH / MODEL_NAME\n",
    "\n",
    "# 3. Save the model state dict \n",
    "print(f\"Saving model to: {MODEL_SAVE_PATH}\")\n",
    "torch.save(obj=model_1.state_dict(), f=MODEL_SAVE_PATH) "
   ]
  },
  {
   "cell_type": "code",
   "execution_count": 19,
   "id": "0f8e555a-d105-46fc-8dcf-d124463e94e4",
   "metadata": {},
   "outputs": [
    {
     "name": "stdout",
     "output_type": "stream",
     "text": [
      "Loaded model:\n",
      "LinearRegressionModelV2(\n",
      "  (linear_layer): Linear(in_features=1, out_features=1, bias=True)\n",
      ")\n",
      "Model on device:\n",
      "cuda:0\n"
     ]
    }
   ],
   "source": [
    "# Instantiate a fresh instance of LinearRegressionModelV2\n",
    "loaded_model_1 = LinearRegressionModelV2()\n",
    "\n",
    "# Load model state dict \n",
    "loaded_model_1.load_state_dict(torch.load(MODEL_SAVE_PATH))\n",
    "\n",
    "# Put model to target device (if your data is on GPU, model will have to be on GPU to make predictions)\n",
    "loaded_model_1.to(device)\n",
    "\n",
    "print(f\"Loaded model:\\n{loaded_model_1}\")\n",
    "print(f\"Model on device:\\n{next(loaded_model_1.parameters()).device}\")"
   ]
  },
  {
   "cell_type": "code",
   "execution_count": 26,
   "id": "0189447b-9d64-4771-93f4-fa39efd36628",
   "metadata": {},
   "outputs": [
    {
     "data": {
      "text/plain": [
       "OrderedDict([('linear_layer.weight', tensor([[0.6166]], device='cuda:0')),\n",
       "             ('linear_layer.bias', tensor([0.3366], device='cuda:0'))])"
      ]
     },
     "execution_count": 26,
     "metadata": {},
     "output_type": "execute_result"
    }
   ],
   "source": [
    "loaded_model_1.state_dict()"
   ]
  },
  {
   "cell_type": "code",
   "execution_count": 27,
   "id": "10d33da1-9fb0-4251-a8b9-091027c8e46f",
   "metadata": {},
   "outputs": [
    {
     "data": {
      "text/plain": [
       "tensor([[True],\n",
       "        [True],\n",
       "        [True],\n",
       "        [True],\n",
       "        [True],\n",
       "        [True],\n",
       "        [True],\n",
       "        [True],\n",
       "        [True],\n",
       "        [True]], device='cuda:0')"
      ]
     },
     "execution_count": 27,
     "metadata": {},
     "output_type": "execute_result"
    }
   ],
   "source": [
    "# Evaluate loaded model\n",
    "loaded_model_1.eval()\n",
    "with torch.inference_mode():\n",
    "    loaded_model_1_preds = loaded_model_1(X_test)\n",
    "y_preds == loaded_model_1_preds"
   ]
  },
  {
   "cell_type": "code",
   "execution_count": null,
   "id": "f9671c2d-544f-460e-be25-21ef9aa1b114",
   "metadata": {},
   "outputs": [],
   "source": []
  }
 ],
 "metadata": {
  "kernelspec": {
   "display_name": "Python 3 (ipykernel)",
   "language": "python",
   "name": "python3"
  },
  "language_info": {
   "codemirror_mode": {
    "name": "ipython",
    "version": 3
   },
   "file_extension": ".py",
   "mimetype": "text/x-python",
   "name": "python",
   "nbconvert_exporter": "python",
   "pygments_lexer": "ipython3",
   "version": "3.10.18"
  }
 },
 "nbformat": 4,
 "nbformat_minor": 5
}
