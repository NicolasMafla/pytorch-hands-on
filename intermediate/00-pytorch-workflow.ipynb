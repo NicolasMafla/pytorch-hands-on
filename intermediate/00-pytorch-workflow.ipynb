{
 "cells": [
  {
   "cell_type": "code",
   "execution_count": 1,
   "id": "147db2d5-9c24-431b-84d8-fdcea0dcc59f",
   "metadata": {},
   "outputs": [
    {
     "data": {
      "text/plain": [
       "'2.8.0+cu126'"
      ]
     },
     "execution_count": 1,
     "metadata": {},
     "output_type": "execute_result"
    }
   ],
   "source": [
    "import torch\n",
    "from torch import nn # nn contains all of PyTorch's building blocks for neural networks\n",
    "import matplotlib.pyplot as plt\n",
    "\n",
    "# Check PyTorch version\n",
    "torch.__version__"
   ]
  },
  {
   "cell_type": "markdown",
   "id": "7b9625b9-5646-49f6-afe2-d43e1773bca8",
   "metadata": {},
   "source": [
    "# Data preparing"
   ]
  },
  {
   "cell_type": "code",
   "execution_count": 179,
   "id": "002439ef-f2d5-4718-84aa-4371952f7cc9",
   "metadata": {},
   "outputs": [
    {
     "data": {
      "text/plain": [
       "(tensor([[0.0000],\n",
       "         [0.0150],\n",
       "         [0.0300],\n",
       "         [0.0450],\n",
       "         [0.0600],\n",
       "         [0.0750],\n",
       "         [0.0900],\n",
       "         [0.1050],\n",
       "         [0.1200],\n",
       "         [0.1350]]),\n",
       " tensor([[0.3963],\n",
       "         [0.3849],\n",
       "         [0.3660],\n",
       "         [0.2262],\n",
       "         [0.3759],\n",
       "         [0.2908],\n",
       "         [0.3608],\n",
       "         [0.2933],\n",
       "         [0.3464],\n",
       "         [0.4769]]))"
      ]
     },
     "execution_count": 179,
     "metadata": {},
     "output_type": "execute_result"
    }
   ],
   "source": [
    "# Create *known* parameters\n",
    "weight = 0.7\n",
    "bias = 0.3\n",
    "\n",
    "# Create data\n",
    "start = 0\n",
    "end = 1\n",
    "step = 0.015\n",
    "X = torch.arange(start, end, step).unsqueeze(dim=1)\n",
    "y = weight * X + bias + torch.normal(mean=0.0, std=0.05, size=(len(X),)).unsqueeze(dim=1)\n",
    "\n",
    "X[:10], y[:10]"
   ]
  },
  {
   "cell_type": "code",
   "execution_count": 180,
   "id": "95f5018e-106f-4519-847b-372cb0145e61",
   "metadata": {},
   "outputs": [
    {
     "data": {
      "text/plain": [
       "(torch.Size([67, 1]), torch.Size([67, 1]))"
      ]
     },
     "execution_count": 180,
     "metadata": {},
     "output_type": "execute_result"
    }
   ],
   "source": [
    "X.shape, y.shape"
   ]
  },
  {
   "cell_type": "code",
   "execution_count": 181,
   "id": "9157aa11-8bc8-4e6e-85db-e3ca9706cb9e",
   "metadata": {},
   "outputs": [
    {
     "data": {
      "text/plain": [
       "(53, 53, 14, 14)"
      ]
     },
     "execution_count": 181,
     "metadata": {},
     "output_type": "execute_result"
    }
   ],
   "source": [
    "# Create train/test split\n",
    "train_split = int(0.8 * len(X)) # 80% of data used for training set, 20% for testing \n",
    "X_train, y_train = X[:train_split], y[:train_split]\n",
    "X_test, y_test = X[train_split:], y[train_split:]\n",
    "\n",
    "len(X_train), len(y_train), len(X_test), len(y_test)"
   ]
  },
  {
   "cell_type": "code",
   "execution_count": 182,
   "id": "beb7da24-1c1e-42dc-8db4-92626eb4754c",
   "metadata": {},
   "outputs": [
    {
     "data": {
      "text/plain": [
       "53"
      ]
     },
     "execution_count": 182,
     "metadata": {},
     "output_type": "execute_result"
    }
   ],
   "source": [
    "train_split"
   ]
  },
  {
   "cell_type": "code",
   "execution_count": 183,
   "id": "e1973f9c-f20f-43ec-af78-1e38911bdc02",
   "metadata": {},
   "outputs": [],
   "source": [
    "def plot_predictions(train_data=X_train, \n",
    "                     train_labels=y_train, \n",
    "                     test_data=X_test, \n",
    "                     test_labels=y_test, \n",
    "                     predictions=None):\n",
    "  \"\"\"\n",
    "  Plots training data, test data and compares predictions.\n",
    "  \"\"\"\n",
    "  plt.figure(figsize=(10, 7))\n",
    "\n",
    "  # Plot training data in blue\n",
    "  plt.scatter(train_data, train_labels, c=\"b\", s=4, label=\"Training data\")\n",
    "  \n",
    "  # Plot test data in green\n",
    "  plt.scatter(test_data, test_labels, c=\"r\", s=4, label=\"Testing data\")\n",
    "\n",
    "  if predictions is not None:\n",
    "    # Plot the predictions in red (predictions were made on the test data)\n",
    "    plt.scatter(test_data, predictions, c=\"orange\", s=4, label=\"Predictions\")\n",
    "\n",
    "  # Show the legend\n",
    "  plt.legend(prop={\"size\": 14});"
   ]
  },
  {
   "cell_type": "code",
   "execution_count": 184,
   "id": "e89b40b3-0e0f-402b-ab82-dacdc56d90ab",
   "metadata": {},
   "outputs": [
    {
     "data": {
      "image/png": "[encoded data removed]",
      "text/plain": [
       "<Figure size 1000x700 with 1 Axes>"
      ]
     },
     "metadata": {},
     "output_type": "display_data"
    }
   ],
   "source": [
    "plot_predictions()"
   ]
  },
  {
   "cell_type": "markdown",
   "id": "0982154c-5574-4b11-a911-c9b23ffcde1e",
   "metadata": {},
   "source": [
    "# Build model"
   ]
  },
  {
   "cell_type": "code",
   "execution_count": 185,
   "id": "b6ca0ecd-b82c-4a20-a55e-785cb649175a",
   "metadata": {},
   "outputs": [],
   "source": [
    "# Create a Linear Regression model class\n",
    "class LinearRegressionModel(nn.Module): # <- almost everything in PyTorch is a nn.Module (think of this as neural network lego blocks)\n",
    "    def __init__(self):\n",
    "        super().__init__()\n",
    "        self.weights = nn.Parameter(torch.randn(1, dtype=torch.float), requires_grad=True)\n",
    "        self.bias = nn.Parameter(torch.randn(1, dtype=torch.float), requires_grad=True)\n",
    "\n",
    "    # Forward defines the computation in the model\n",
    "    def forward(self, x: torch.Tensor) -> torch.Tensor: # <- \"x\" is the input data (e.g. training/testing features)\n",
    "        return (self.weights * x) + self.bias # <- this is the linear regression formula (y = m*x + b)"
   ]
  },
  {
   "cell_type": "code",
   "execution_count": 186,
   "id": "db6e6a3a-9845-415b-a4ae-2fc1fb7aca04",
   "metadata": {},
   "outputs": [
    {
     "data": {
      "text/plain": [
       "[Parameter containing:\n",
       " tensor([0.3367], requires_grad=True),\n",
       " Parameter containing:\n",
       " tensor([0.1288], requires_grad=True)]"
      ]
     },
     "execution_count": 186,
     "metadata": {},
     "output_type": "execute_result"
    }
   ],
   "source": [
    "# Set manual seed since nn.Parameter are randomly initialized\n",
    "torch.manual_seed(42)\n",
    "\n",
    "# Create an instance of the model (this is a subclass of nn.Module that contains nn.Parameter(s))\n",
    "model_0 = LinearRegressionModel()\n",
    "\n",
    "# Check the nn.Parameter(s) within the nn.Module subclass we created\n",
    "list(model_0.parameters())"
   ]
  },
  {
   "cell_type": "code",
   "execution_count": 187,
   "id": "c5cbd7d2-1d07-432b-9d4d-cec14e354d55",
   "metadata": {},
   "outputs": [
    {
     "data": {
      "text/plain": [
       "OrderedDict([('weights', tensor([0.3367])), ('bias', tensor([0.1288]))])"
      ]
     },
     "execution_count": 187,
     "metadata": {},
     "output_type": "execute_result"
    }
   ],
   "source": [
    "# List named parameters \n",
    "model_0.state_dict()"
   ]
  },
  {
   "cell_type": "code",
   "execution_count": 188,
   "id": "5551ceb5-9056-46d6-be2f-03041a63fbb8",
   "metadata": {},
   "outputs": [
    {
     "name": "stdout",
     "output_type": "stream",
     "text": [
      "tensor([[0.3965],\n",
      "        [0.4015],\n",
      "        [0.4066],\n",
      "        [0.4116],\n",
      "        [0.4167],\n",
      "        [0.4217],\n",
      "        [0.4268],\n",
      "        [0.4318],\n",
      "        [0.4369],\n",
      "        [0.4419],\n",
      "        [0.4470],\n",
      "        [0.4520],\n",
      "        [0.4571],\n",
      "        [0.4621]])\n"
     ]
    }
   ],
   "source": [
    "# Make predictions with model\n",
    "with torch.inference_mode(): \n",
    "    y_preds = model_0(X_test)\n",
    "    print(y_preds)"
   ]
  },
  {
   "cell_type": "code",
   "execution_count": 189,
   "id": "6e621f4d-f53d-4c18-9d5a-07b5be9aef4a",
   "metadata": {},
   "outputs": [
    {
     "name": "stdout",
     "output_type": "stream",
     "text": [
      "Number of testing samples: 14\n",
      "Number of predictions made: 14\n",
      "Predicted values:\n",
      "tensor([[0.3965],\n",
      "        [0.4015],\n",
      "        [0.4066],\n",
      "        [0.4116],\n",
      "        [0.4167],\n",
      "        [0.4217],\n",
      "        [0.4268],\n",
      "        [0.4318],\n",
      "        [0.4369],\n",
      "        [0.4419],\n",
      "        [0.4470],\n",
      "        [0.4520],\n",
      "        [0.4571],\n",
      "        [0.4621]])\n"
     ]
    }
   ],
   "source": [
    "# Check the predictions\n",
    "print(f\"Number of testing samples: {len(X_test)}\") \n",
    "print(f\"Number of predictions made: {len(y_preds)}\")\n",
    "print(f\"Predicted values:\\n{y_preds}\")"
   ]
  },
  {
   "cell_type": "code",
   "execution_count": 190,
   "id": "b3d01956-18ff-4b14-8a7c-c7d06ba9ff81",
   "metadata": {},
   "outputs": [
    {
     "data": {
      "image/png": "[encoded data removed]",
      "text/plain": [
       "<Figure size 1000x700 with 1 Axes>"
      ]
     },
     "metadata": {},
     "output_type": "display_data"
    }
   ],
   "source": [
    "plot_predictions(predictions=y_preds)"
   ]
  },
  {
   "cell_type": "code",
   "execution_count": 191,
   "id": "9fc7c8c2-43d8-49ca-bae8-130baa3753ca",
   "metadata": {},
   "outputs": [
    {
     "data": {
      "text/plain": [
       "tensor([[0.4502],\n",
       "        [0.4127],\n",
       "        [0.5348],\n",
       "        [0.4836],\n",
       "        [0.4934],\n",
       "        [0.4877],\n",
       "        [0.5140],\n",
       "        [0.5269],\n",
       "        [0.4715],\n",
       "        [0.3987],\n",
       "        [0.4770],\n",
       "        [0.6607],\n",
       "        [0.5434],\n",
       "        [0.5264]])"
      ]
     },
     "execution_count": 191,
     "metadata": {},
     "output_type": "execute_result"
    }
   ],
   "source": [
    "y_test - y_preds"
   ]
  },
  {
   "cell_type": "markdown",
   "id": "d2d665e8-ab9d-4f26-a07c-91fdde28f90e",
   "metadata": {},
   "source": [
    "# Train the model"
   ]
  },
  {
   "cell_type": "code",
   "execution_count": 192,
   "id": "e85e5d21-38a1-4c7f-9065-e4fdb85d8671",
   "metadata": {},
   "outputs": [],
   "source": [
    "# Create the loss function\n",
    "loss_fn = nn.L1Loss() # MAE loss is same as L1Loss\n",
    "\n",
    "# Create the optimizer\n",
    "optimizer = torch.optim.SGD(params=model_0.parameters(), lr=0.01)"
   ]
  },
  {
   "cell_type": "code",
   "execution_count": 193,
   "id": "642d1807-b284-41b1-a680-50f3b3c8b926",
   "metadata": {},
   "outputs": [
    {
     "name": "stdout",
     "output_type": "stream",
     "text": [
      "Epoch: 0 | MAE Train Loss: 0.3148631453514099 | MAE Test Loss: 0.485168993473053 \n",
      "Epoch: 10 | MAE Train Loss: 0.20075838267803192 | MAE Test Loss: 0.3511466383934021 \n",
      "Epoch: 20 | MAE Train Loss: 0.10741959512233734 | MAE Test Loss: 0.2302403450012207 \n",
      "Epoch: 30 | MAE Train Loss: 0.0668688714504242 | MAE Test Loss: 0.15171204507350922 \n",
      "Epoch: 40 | MAE Train Loss: 0.054999206215143204 | MAE Test Loss: 0.11120104044675827 \n",
      "Epoch: 50 | MAE Train Loss: 0.053585395216941833 | MAE Test Loss: 0.10320360213518143 \n",
      "Epoch: 60 | MAE Train Loss: 0.05263252928853035 | MAE Test Loss: 0.09795927256345749 \n",
      "Epoch: 70 | MAE Train Loss: 0.05171436816453934 | MAE Test Loss: 0.09450752288103104 \n",
      "Epoch: 80 | MAE Train Loss: 0.050807371735572815 | MAE Test Loss: 0.09157270938158035 \n",
      "Epoch: 90 | MAE Train Loss: 0.049937013536691666 | MAE Test Loss: 0.08925814181566238 \n",
      "Epoch: 100 | MAE Train Loss: 0.049115948379039764 | MAE Test Loss: 0.08587425202131271 \n",
      "Epoch: 110 | MAE Train Loss: 0.04854205250740051 | MAE Test Loss: 0.08248735219240189 \n",
      "Epoch: 120 | MAE Train Loss: 0.04813104122877121 | MAE Test Loss: 0.08133924007415771 \n",
      "Epoch: 130 | MAE Train Loss: 0.04777726158499718 | MAE Test Loss: 0.07955271005630493 \n",
      "Epoch: 140 | MAE Train Loss: 0.04742256551980972 | MAE Test Loss: 0.07776615768671036 \n",
      "Epoch: 150 | MAE Train Loss: 0.04707811772823334 | MAE Test Loss: 0.07563900947570801 \n",
      "Epoch: 160 | MAE Train Loss: 0.046794019639492035 | MAE Test Loss: 0.07440731674432755 \n",
      "Epoch: 170 | MAE Train Loss: 0.04654189199209213 | MAE Test Loss: 0.07302061468362808 \n",
      "Epoch: 180 | MAE Train Loss: 0.046315379440784454 | MAE Test Loss: 0.07192248851060867 \n",
      "Epoch: 190 | MAE Train Loss: 0.04609108716249466 | MAE Test Loss: 0.07085718959569931 \n",
      "Epoch: 200 | MAE Train Loss: 0.04586679860949516 | MAE Test Loss: 0.06979191303253174 \n",
      "Epoch: 210 | MAE Train Loss: 0.04564124345779419 | MAE Test Loss: 0.06833316385746002 \n",
      "Epoch: 220 | MAE Train Loss: 0.0454215370118618 | MAE Test Loss: 0.06699106097221375 \n",
      "Epoch: 230 | MAE Train Loss: 0.045313168317079544 | MAE Test Loss: 0.06618858128786087 \n",
      "Epoch: 240 | MAE Train Loss: 0.04521491378545761 | MAE Test Loss: 0.06550278514623642 \n",
      "Epoch: 250 | MAE Train Loss: 0.04511664807796478 | MAE Test Loss: 0.06481698900461197 \n",
      "Epoch: 260 | MAE Train Loss: 0.045020610094070435 | MAE Test Loss: 0.06373770534992218 \n",
      "Epoch: 270 | MAE Train Loss: 0.0449223592877388 | MAE Test Loss: 0.06305191665887833 \n",
      "Epoch: 280 | MAE Train Loss: 0.044824108481407166 | MAE Test Loss: 0.06236610934138298 \n",
      "Epoch: 290 | MAE Train Loss: 0.0447796992957592 | MAE Test Loss: 0.06142929568886757 \n",
      "Epoch: 300 | MAE Train Loss: 0.04477069526910782 | MAE Test Loss: 0.06143263354897499 \n",
      "Epoch: 310 | MAE Train Loss: 0.0447564534842968 | MAE Test Loss: 0.06149059161543846 \n",
      "Epoch: 320 | MAE Train Loss: 0.044749338179826736 | MAE Test Loss: 0.06115509942173958 \n",
      "Epoch: 330 | MAE Train Loss: 0.044742219150066376 | MAE Test Loss: 0.06092890724539757 \n",
      "Epoch: 340 | MAE Train Loss: 0.04473454877734184 | MAE Test Loss: 0.06070271506905556 \n",
      "Epoch: 350 | MAE Train Loss: 0.044726863503456116 | MAE Test Loss: 0.06047653406858444 \n",
      "Epoch: 360 | MAE Train Loss: 0.0447191558778286 | MAE Test Loss: 0.060250334441661835 \n",
      "Epoch: 370 | MAE Train Loss: 0.04471146687865257 | MAE Test Loss: 0.060024160891771317 \n",
      "Epoch: 380 | MAE Train Loss: 0.04470377042889595 | MAE Test Loss: 0.059797950088977814 \n",
      "Epoch: 390 | MAE Train Loss: 0.04469607397913933 | MAE Test Loss: 0.059571772813797 \n",
      "Epoch: 400 | MAE Train Loss: 0.044688377529382706 | MAE Test Loss: 0.05934557691216469 \n",
      "Epoch: 410 | MAE Train Loss: 0.04468068107962608 | MAE Test Loss: 0.05911939591169357 \n",
      "Epoch: 420 | MAE Train Loss: 0.04467298462986946 | MAE Test Loss: 0.05889320373535156 \n",
      "Epoch: 430 | MAE Train Loss: 0.04466528818011284 | MAE Test Loss: 0.05866700038313866 \n",
      "Epoch: 440 | MAE Train Loss: 0.044657591730356216 | MAE Test Loss: 0.05844082683324814 \n",
      "Epoch: 450 | MAE Train Loss: 0.044649891555309296 | MAE Test Loss: 0.05821463465690613 \n",
      "Epoch: 460 | MAE Train Loss: 0.04464253783226013 | MAE Test Loss: 0.058381933718919754 \n",
      "Epoch: 470 | MAE Train Loss: 0.04463541880249977 | MAE Test Loss: 0.058155741542577744 \n",
      "Epoch: 480 | MAE Train Loss: 0.04462829604744911 | MAE Test Loss: 0.05792953446507454 \n",
      "Epoch: 490 | MAE Train Loss: 0.04462118074297905 | MAE Test Loss: 0.05770334601402283 \n",
      "Epoch: 500 | MAE Train Loss: 0.04461405798792839 | MAE Test Loss: 0.05747714266180992 \n",
      "Epoch: 510 | MAE Train Loss: 0.04460693150758743 | MAE Test Loss: 0.05725095793604851 \n",
      "Epoch: 520 | MAE Train Loss: 0.04459981620311737 | MAE Test Loss: 0.057024773210287094 \n",
      "Epoch: 530 | MAE Train Loss: 0.04459269717335701 | MAE Test Loss: 0.05679858475923538 \n",
      "Epoch: 540 | MAE Train Loss: 0.04458557441830635 | MAE Test Loss: 0.05657238885760307 \n",
      "Epoch: 550 | MAE Train Loss: 0.04457846283912659 | MAE Test Loss: 0.05634617805480957 \n",
      "Epoch: 560 | MAE Train Loss: 0.04457134008407593 | MAE Test Loss: 0.05612000450491905 \n",
      "Epoch: 570 | MAE Train Loss: 0.04456421732902527 | MAE Test Loss: 0.05589381605386734 \n",
      "Epoch: 580 | MAE Train Loss: 0.04455709829926491 | MAE Test Loss: 0.05566763877868652 \n",
      "Epoch: 590 | MAE Train Loss: 0.04454997181892395 | MAE Test Loss: 0.055441439151763916 \n",
      "Epoch: 600 | MAE Train Loss: 0.044542860239744186 | MAE Test Loss: 0.05521528050303459 \n",
      "Epoch: 610 | MAE Train Loss: 0.04453573748469353 | MAE Test Loss: 0.05498906597495079 \n",
      "Epoch: 620 | MAE Train Loss: 0.04452861472964287 | MAE Test Loss: 0.05476287007331848 \n",
      "Epoch: 630 | MAE Train Loss: 0.044521499425172806 | MAE Test Loss: 0.05453670024871826 \n",
      "Epoch: 640 | MAE Train Loss: 0.04451437667012215 | MAE Test Loss: 0.05431049317121506 \n",
      "Epoch: 650 | MAE Train Loss: 0.044506803154945374 | MAE Test Loss: 0.054084308445453644 \n",
      "Epoch: 660 | MAE Train Loss: 0.04449910670518875 | MAE Test Loss: 0.053858108818531036 \n",
      "Epoch: 670 | MAE Train Loss: 0.04449140280485153 | MAE Test Loss: 0.053631920367479324 \n",
      "Epoch: 680 | MAE Train Loss: 0.04448654130101204 | MAE Test Loss: 0.0535004548728466 \n",
      "Epoch: 690 | MAE Train Loss: 0.04448309913277626 | MAE Test Loss: 0.05341636389493942 \n",
      "Epoch: 700 | MAE Train Loss: 0.04447958245873451 | MAE Test Loss: 0.05377313122153282 \n",
      "Epoch: 710 | MAE Train Loss: 0.04447311908006668 | MAE Test Loss: 0.053343016654253006 \n",
      "Epoch: 720 | MAE Train Loss: 0.0444689579308033 | MAE Test Loss: 0.05335380509495735 \n",
      "Epoch: 730 | MAE Train Loss: 0.04446697235107422 | MAE Test Loss: 0.052971143275499344 \n",
      "Epoch: 740 | MAE Train Loss: 0.044467780739068985 | MAE Test Loss: 0.05302935838699341 \n",
      "Epoch: 750 | MAE Train Loss: 0.04446392133831978 | MAE Test Loss: 0.05308757349848747 \n",
      "Epoch: 760 | MAE Train Loss: 0.04445921629667282 | MAE Test Loss: 0.05314578488469124 \n",
      "Epoch: 770 | MAE Train Loss: 0.04445795342326164 | MAE Test Loss: 0.052763111889362335 \n",
      "Epoch: 780 | MAE Train Loss: 0.04445875436067581 | MAE Test Loss: 0.0528213307261467 \n",
      "Epoch: 790 | MAE Train Loss: 0.0444541797041893 | MAE Test Loss: 0.05287954583764076 \n",
      "Epoch: 800 | MAE Train Loss: 0.044449467211961746 | MAE Test Loss: 0.05293777212500572 \n",
      "Epoch: 810 | MAE Train Loss: 0.044448934495449066 | MAE Test Loss: 0.05255510285496712 \n",
      "Epoch: 820 | MAE Train Loss: 0.04444913938641548 | MAE Test Loss: 0.05261332541704178 \n",
      "Epoch: 830 | MAE Train Loss: 0.044444430619478226 | MAE Test Loss: 0.052671533077955246 \n",
      "Epoch: 840 | MAE Train Loss: 0.04443972930312157 | MAE Test Loss: 0.052729733288288116 \n",
      "Epoch: 850 | MAE Train Loss: 0.044439904391765594 | MAE Test Loss: 0.05234707146883011 \n",
      "Epoch: 860 | MAE Train Loss: 0.0444394014775753 | MAE Test Loss: 0.05240529775619507 \n",
      "Epoch: 870 | MAE Train Loss: 0.044434692710638046 | MAE Test Loss: 0.05246352404356003 \n",
      "Epoch: 880 | MAE Train Loss: 0.04443007707595825 | MAE Test Loss: 0.05208086222410202 \n",
      "Epoch: 890 | MAE Train Loss: 0.04443088173866272 | MAE Test Loss: 0.052139077335596085 \n",
      "Epoch: 900 | MAE Train Loss: 0.044429656118154526 | MAE Test Loss: 0.05219729617238045 \n",
      "Epoch: 910 | MAE Train Loss: 0.04442494735121727 | MAE Test Loss: 0.05225549265742302 \n",
      "Epoch: 920 | MAE Train Loss: 0.044421058148145676 | MAE Test Loss: 0.051872849464416504 \n",
      "Epoch: 930 | MAE Train Loss: 0.04442185163497925 | MAE Test Loss: 0.051931049674749374 \n",
      "Epoch: 940 | MAE Train Loss: 0.04441991075873375 | MAE Test Loss: 0.051989275962114334 \n",
      "Epoch: 950 | MAE Train Loss: 0.04441520571708679 | MAE Test Loss: 0.0520474836230278 \n",
      "Epoch: 960 | MAE Train Loss: 0.044412024319171906 | MAE Test Loss: 0.051664821803569794 \n",
      "Epoch: 970 | MAE Train Loss: 0.044412825256586075 | MAE Test Loss: 0.051723044365644455 \n",
      "Epoch: 980 | MAE Train Loss: 0.04441017657518387 | MAE Test Loss: 0.05178126320242882 \n",
      "Epoch: 990 | MAE Train Loss: 0.044405464082956314 | MAE Test Loss: 0.05183947831392288 \n"
     ]
    },
    {
     "data": {
      "image/png": "[encoded data removed]",
      "text/plain": [
       "<Figure size 1000x700 with 1 Axes>"
      ]
     },
     "metadata": {},
     "output_type": "display_data"
    }
   ],
   "source": [
    "torch.manual_seed(42)\n",
    "\n",
    "# Set the number of epochs (how many times the model will pass over the training data)\n",
    "epochs = 1000\n",
    "\n",
    "# Create empty loss lists to track values\n",
    "train_loss_values = []\n",
    "test_loss_values = []\n",
    "epoch_count = []\n",
    "\n",
    "for epoch in range(epochs):\n",
    "    # Put model in training mode (this is the default state of a model)\n",
    "    model_0.train()\n",
    "\n",
    "    # 1. Forward pass on train data using the forward() method inside \n",
    "    y_pred = model_0(X_train)\n",
    "    # print(y_pred)\n",
    "\n",
    "    # 2. Calculate the loss (how different are our models predictions to the ground truth)\n",
    "    loss = loss_fn(y_pred, y_train)\n",
    "\n",
    "    # 3. Zero grad of the optimizer\n",
    "    optimizer.zero_grad()\n",
    "\n",
    "    # 4. Loss backwards\n",
    "    loss.backward()\n",
    "\n",
    "    # 5. Progress the optimizer\n",
    "    optimizer.step()\n",
    "\n",
    "    ### Testing\n",
    "\n",
    "    # Put the model in evaluation mode\n",
    "    model_0.eval()\n",
    "\n",
    "    with torch.inference_mode():\n",
    "      # 1. Forward pass on test data\n",
    "      test_pred = model_0(X_test)\n",
    "\n",
    "      # 2. Caculate loss on test data\n",
    "      test_loss = loss_fn(test_pred, y_test.type(torch.float)) # predictions come in torch.float datatype, so comparisons need to be done with tensors of the same type\n",
    "\n",
    "      # Print out what's happening\n",
    "      if epoch % 10 == 0:\n",
    "            epoch_count.append(epoch)\n",
    "            train_loss_values.append(loss.detach().numpy())\n",
    "            test_loss_values.append(test_loss.detach().numpy())\n",
    "            print(f\"Epoch: {epoch} | MAE Train Loss: {loss} | MAE Test Loss: {test_loss} \")\n",
    "\n",
    "plot_predictions(predictions=test_pred)"
   ]
  },
  {
   "cell_type": "code",
   "execution_count": 194,
   "id": "f05af875-23f5-4cfc-b993-890adf87228d",
   "metadata": {},
   "outputs": [
    {
     "data": {
      "text/plain": [
       "OrderedDict([('weights', tensor([0.6448])), ('bias', tensor([0.3145]))])"
      ]
     },
     "execution_count": 194,
     "metadata": {},
     "output_type": "execute_result"
    }
   ],
   "source": [
    "model_0.state_dict()"
   ]
  },
  {
   "cell_type": "code",
   "execution_count": null,
   "id": "7f5e1c17-dc61-44a1-8882-110b53f39d5b",
   "metadata": {},
   "outputs": [],
   "source": []
  }
 ],
 "metadata": {
  "kernelspec": {
   "display_name": "Python 3 (ipykernel)",
   "language": "python",
   "name": "python3"
  },
  "language_info": {
   "codemirror_mode": {
    "name": "ipython",
    "version": 3
   },
   "file_extension": ".py",
   "mimetype": "text/x-python",
   "name": "python",
   "nbconvert_exporter": "python",
   "pygments_lexer": "ipython3",
   "version": "3.10.18"
  }
 },
 "nbformat": 4,
 "nbformat_minor": 5
}
